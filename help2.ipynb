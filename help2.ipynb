{
 "cells": [
  {
   "cell_type": "code",
   "execution_count": 2,
   "metadata": {},
   "outputs": [],
   "source": [
    "import pandas as pd"
   ]
  },
  {
   "cell_type": "code",
   "execution_count": 4,
   "metadata": {},
   "outputs": [],
   "source": [
    "df =  pd.read_csv(\"OldAgenda - oldAgenda.csv\")"
   ]
  },
  {
   "cell_type": "code",
   "execution_count": 5,
   "metadata": {},
   "outputs": [
    {
     "data": {
      "text/html": [
       "<div>\n",
       "<style scoped>\n",
       "    .dataframe tbody tr th:only-of-type {\n",
       "        vertical-align: middle;\n",
       "    }\n",
       "\n",
       "    .dataframe tbody tr th {\n",
       "        vertical-align: top;\n",
       "    }\n",
       "\n",
       "    .dataframe thead th {\n",
       "        text-align: right;\n",
       "    }\n",
       "</style>\n",
       "<table border=\"1\" class=\"dataframe\">\n",
       "  <thead>\n",
       "    <tr style=\"text-align: right;\">\n",
       "      <th></th>\n",
       "      <th>Semana</th>\n",
       "      <th>Concepto</th>\n",
       "      <th>Fecha de Concepto</th>\n",
       "      <th>Mes</th>\n",
       "      <th>Psicóloga Asignada</th>\n",
       "      <th>Nombre Completo del Paciente</th>\n",
       "      <th>Folio del Paciente</th>\n",
       "      <th>Número de sesión</th>\n",
       "      <th>Asistió Paciente</th>\n",
       "      <th>Reagendada</th>\n",
       "      <th>Fecha Reagenda</th>\n",
       "      <th>Captura de Pantalla</th>\n",
       "      <th>Observaciones generales</th>\n",
       "      <th>CURP</th>\n",
       "      <th>Efectuada</th>\n",
       "      <th>No efectuada</th>\n",
       "    </tr>\n",
       "  </thead>\n",
       "  <tbody>\n",
       "    <tr>\n",
       "      <th>0</th>\n",
       "      <td>1/1/24</td>\n",
       "      <td>Sesión</td>\n",
       "      <td>1/1/24</td>\n",
       "      <td>January</td>\n",
       "      <td>Carmen Treviño</td>\n",
       "      <td>Virginia Balderas Martínez</td>\n",
       "      <td>3944</td>\n",
       "      <td>NaN</td>\n",
       "      <td>Si</td>\n",
       "      <td>NaN</td>\n",
       "      <td>NaN</td>\n",
       "      <td>NaN</td>\n",
       "      <td>NaN</td>\n",
       "      <td>BAMV800113MNLRR06</td>\n",
       "      <td>1.0</td>\n",
       "      <td>0.0</td>\n",
       "    </tr>\n",
       "    <tr>\n",
       "      <th>1</th>\n",
       "      <td>1/1/24</td>\n",
       "      <td>Sesión</td>\n",
       "      <td>1/1/24</td>\n",
       "      <td>January</td>\n",
       "      <td>Carmen Treviño</td>\n",
       "      <td>Rosalinda Wendoly Portillo Camarillo</td>\n",
       "      <td>4081</td>\n",
       "      <td>NaN</td>\n",
       "      <td>Si</td>\n",
       "      <td>NaN</td>\n",
       "      <td>NaN</td>\n",
       "      <td>NaN</td>\n",
       "      <td>NaN</td>\n",
       "      <td>POCR830318MNLRMS01</td>\n",
       "      <td>1.0</td>\n",
       "      <td>0.0</td>\n",
       "    </tr>\n",
       "    <tr>\n",
       "      <th>2</th>\n",
       "      <td>1/1/24</td>\n",
       "      <td>Sesión</td>\n",
       "      <td>1/1/24</td>\n",
       "      <td>January</td>\n",
       "      <td>Carmen Treviño</td>\n",
       "      <td>Selene Lizette Garcia Banda</td>\n",
       "      <td>24000519</td>\n",
       "      <td>NaN</td>\n",
       "      <td>Si</td>\n",
       "      <td>NaN</td>\n",
       "      <td>NaN</td>\n",
       "      <td>NaN</td>\n",
       "      <td>NaN</td>\n",
       "      <td>GABS910915MNLRNL00</td>\n",
       "      <td>1.0</td>\n",
       "      <td>0.0</td>\n",
       "    </tr>\n",
       "    <tr>\n",
       "      <th>3</th>\n",
       "      <td>1/1/24</td>\n",
       "      <td>Sesión</td>\n",
       "      <td>1/1/24</td>\n",
       "      <td>January</td>\n",
       "      <td>Carmen Treviño</td>\n",
       "      <td>Beatriz Ordoñez Castellanos</td>\n",
       "      <td>24000519</td>\n",
       "      <td>NaN</td>\n",
       "      <td>Si</td>\n",
       "      <td>NaN</td>\n",
       "      <td>NaN</td>\n",
       "      <td>NaN</td>\n",
       "      <td>NaN</td>\n",
       "      <td>OOCB890725MVZRST05</td>\n",
       "      <td>1.0</td>\n",
       "      <td>0.0</td>\n",
       "    </tr>\n",
       "    <tr>\n",
       "      <th>4</th>\n",
       "      <td>1/1/24</td>\n",
       "      <td>Sesión</td>\n",
       "      <td>1/1/24</td>\n",
       "      <td>January</td>\n",
       "      <td>Carmen Treviño</td>\n",
       "      <td>Laura Azucena Carranza Rodríguez</td>\n",
       "      <td>252023</td>\n",
       "      <td>NaN</td>\n",
       "      <td>Si</td>\n",
       "      <td>NaN</td>\n",
       "      <td>NaN</td>\n",
       "      <td>NaN</td>\n",
       "      <td>NaN</td>\n",
       "      <td>CARL860523MSPRDR08</td>\n",
       "      <td>1.0</td>\n",
       "      <td>0.0</td>\n",
       "    </tr>\n",
       "  </tbody>\n",
       "</table>\n",
       "</div>"
      ],
      "text/plain": [
       "   Semana Concepto Fecha de Concepto      Mes Psicóloga Asignada  \\\n",
       "0  1/1/24   Sesión            1/1/24  January     Carmen Treviño   \n",
       "1  1/1/24   Sesión            1/1/24  January     Carmen Treviño   \n",
       "2  1/1/24   Sesión            1/1/24  January     Carmen Treviño   \n",
       "3  1/1/24   Sesión            1/1/24  January     Carmen Treviño   \n",
       "4  1/1/24   Sesión            1/1/24  January     Carmen Treviño   \n",
       "\n",
       "           Nombre Completo del Paciente Folio del Paciente Número de sesión  \\\n",
       "0            Virginia Balderas Martínez               3944              NaN   \n",
       "1  Rosalinda Wendoly Portillo Camarillo               4081              NaN   \n",
       "2           Selene Lizette Garcia Banda           24000519              NaN   \n",
       "3           Beatriz Ordoñez Castellanos           24000519              NaN   \n",
       "4      Laura Azucena Carranza Rodríguez             252023              NaN   \n",
       "\n",
       "  Asistió Paciente Reagendada Fecha Reagenda Captura de Pantalla  \\\n",
       "0               Si        NaN            NaN                 NaN   \n",
       "1               Si        NaN            NaN                 NaN   \n",
       "2               Si        NaN            NaN                 NaN   \n",
       "3               Si        NaN            NaN                 NaN   \n",
       "4               Si        NaN            NaN                 NaN   \n",
       "\n",
       "  Observaciones generales                CURP  Efectuada  No efectuada  \n",
       "0                     NaN   BAMV800113MNLRR06        1.0           0.0  \n",
       "1                     NaN  POCR830318MNLRMS01        1.0           0.0  \n",
       "2                     NaN  GABS910915MNLRNL00        1.0           0.0  \n",
       "3                     NaN  OOCB890725MVZRST05        1.0           0.0  \n",
       "4                     NaN  CARL860523MSPRDR08        1.0           0.0  "
      ]
     },
     "execution_count": 5,
     "metadata": {},
     "output_type": "execute_result"
    }
   ],
   "source": [
    "df.head()"
   ]
  },
  {
   "cell_type": "code",
   "execution_count": 6,
   "metadata": {},
   "outputs": [],
   "source": [
    "nombres_lista = df[\"Nombre Completo del Paciente\"].tolist()\n"
   ]
  },
  {
   "cell_type": "code",
   "execution_count": 15,
   "metadata": {},
   "outputs": [
    {
     "name": "stdout",
     "output_type": "stream",
     "text": [
      "[['virginia balderas martínez', 'virginia balderas martínez', 'virginia balderas martínez', 'virginia balderas martínez', 'virginia balderas martínez', 'virginia balderas martínez', 'virginia balderas martínez', 'virginia balderas martínez', 'virginia balderas martínez', 'virginia balderas martínez', 'virginia balderas martínez', 'virginia balderas martínez', 'virginia balderas martínez', 'virginia balderas martinez', 'virginia balderas martinez', 'virginia banderas martinez ', 'virginia banderas martinez ', 'virginia banderas martinez ', 'virginia banderas martinez ', 'virginia banderas martinez ', 'virginia banderas martinez ', 'virginia banderas martinez ', 'virginia banderas martinez '], ['rosalinda wendoly portillo camarillo', 'rosalinda wendoly portillo camarillo', 'rosalinda wendoly portillo camarillo', 'rosalinda wendoly portillo camarillo', 'rosalinda wondoly portillo', 'rosalinda wendoly portillo', 'rosalinda wendoly portillo camarillo', 'rosalinda wendoly portillo camarillo'], ['selene lizette garcia banda', 'selene lizette garcia banda', 'selene lizette garcia banda', 'selene lizette garcia banda', 'selene lizette garcia banda', 'selene lizette garcia banda', 'selene lizette garcia banda', 'selene lizette garcia banda', 'selene lizette garcia banda', 'selene lizette garcia banda', 'selene lizette garcia banda', 'selene lizette garcia banda', 'selene lizette garcia banda', 'selene lizette garcia banda', 'selene lizette garcia banda', 'selene lizette garcia banda', 'selene garcia banda ', 'selene garcia banda ', 'selene garcia banda', 'selene garcia banda', 'selene garcia banda', 'selene garcia banda', 'selene garcia banda', 'selene garcia banda'], ['beatriz ordoñez castellanos', 'beatriz ordoñez castellanos', 'beatriz ordoñez castellanos', 'beatriz ordoñez castellanos', 'beatriz ordoñez castellanos', 'beatriz ordoñez castellanos', 'beatriz ordoñez castellanos', 'beatriz ordoñez castellanos', 'beatriz ordoñez castellanos', 'beatriz ordóñez castellanos. ', 'beatriz ordóñez castellanos. ', 'beatriz ordóñez castellanos. ', 'beatriz ordóñez castellanos. ', 'beatriz ordóñez castellanos. ', 'beatriz ordóñez castellanos. ', 'beatriz ordóñez castellanos. ', 'beatriz ordóñez castellanos. ', 'beatriz ordóñez castellanos. '], ['laura azucena carranza rodríguez', 'laura azucena carranza rodríguez', 'laura azucena carranza rodríguez', 'laura azucena carranza rodríguez', 'laura azucena carranza rodríguez', 'laura azucena carranza rodríguez', 'laura azucena carranza rodríguez', 'laura azucena carranza rodríguez', 'laura azucena carranza rodríguez', 'laura azucena carranza rodríguez', 'laura  azucena carranza rdz.', 'laura  azucena carranza rdz.'], ['isabel', 'isabel', 'isabel', 'isabel', 'isabel', 'isabel', 'isabel', 'isabel', 'isabel', 'isabel', 'isabel ', 'isabel', 'isabel ', 'isabel ', 'isabel ', 'isabel ', 'isabel ', 'isabel '], ['rosalba caballero alonso', 'rosalba caballero alonso', 'rosalba caballero alonso ', 'rosalba caballero alonso ', 'rosalba caballero alonso ', 'rosalba caballero alonso ', 'rosalba caballero alonso ', 'rosalba caballero alonso ', 'rosalba caballero alonso ', 'rosalba caballero alonso ', 'rosalba caballero alonso '], ['reina isabel trujillo', 'reina isabel trujillo'], ['rosalinda sanchez hernandez', 'rosalinda sanchez hernandez', 'rosalinda sanchez hernandez', 'rosalinda sanchez hernandez', 'rosalinda sanchez hernandez', 'rosalinda sanchez hernandez', 'rosalinda sanchez hernandez', 'rosalinda sanchez hernandez', 'rosalinda sanchez hernandez', 'rosalinda sanchez hernandez', 'rosa cecilia sanchez hernandez', 'rosa cecilia sanchez hernandez'], ['ana', 'ana', 'ana', 'ana', 'ana'], ['laura', 'laura'], ['selene', 'selene', 'selene', 'selene', 'selene'], ['rosalinda', 'rosalinda', 'rosalinda', 'rosalinda', 'rosalinda', 'rosalinda', 'rosalinda', 'rosalinda'], ['virginia', 'virginia'], ['beatriz', 'beatriz'], ['yolanda ramos'], ['evelyn nataly palacios ibarra.', 'evelyn nataly palacios ibarra'], ['gabriela navarrete.', 'gabriela navarrete.', 'gabriela navarrete.', 'gabriela navarrete.', 'gabriela navarrete.', 'gabriela navarrete.', 'gabriela navarrete.'], ['gabriela', 'gabriela.'], ['ana brisa.', 'ana brisa', 'ana brisa', 'ana brisa'], ['monica villalvazo chacon', 'monica villalvazo chacon', 'monica villalvazo chacon', 'monica villalvazo chacon', 'monica villalvazo chacon', 'monica villalvazo chacon', 'monica villalvazo chacon', 'monica villalvazo chacon', 'monica villalvazo chacon', 'monica villalvazo chacon', 'monica villalvazo chacon', 'monica villalvazo chacon', 'monica villalvazo chacon', 'monica villalvazo chacon', 'monica villalvazo chacon', 'monica villalvazo chacon', 'monica villalvazo chacon', 'monica villalvazo chacon', 'monica villalvazo chacon', 'monica villalvazo chacon', 'monica villalvazo chacon', 'monica villalvazo chacon', 'monica villalvazo chacon', 'monica villalvazo chacon', 'monica villalvazo chacon', 'monica villalvazo chacon', 'monica villalvazo chacon', 'monica villalvazo chacon', 'monica villalvazo chacon', 'monica villalvazo chacon', 'monica villalvazo chacon', 'monica villalvazo chacon', 'monica villalvazo chacon', 'monica villalvazo chacon', 'monica villalvazo chacon', 'monica villalvazo chacon', 'monica villalvazo chacon', 'monica villalvazo chacon'], ['yadira garza espinoza', 'yadira garza espinoza', 'yadira garza espinoza', 'yadira garza espinoza', 'yadira garza espinoza', 'yadira garza espinoza', 'yadira garza espinoza', 'yadira garza espinoza', 'yadira garza espinoza', 'yadira garza espinoza', 'yadira garza espinoza', 'yadira garza espinoza', 'yadira garza espinoza', 'yadira garza espinoza', 'yadira garza espinoza', 'yadira garza espinoza', 'yadira garza espinoza', 'yadira garza espinoza', 'yadira garza espinoza', 'yadira garza espinoza', 'yadira garza espinoza', 'yadira garza espinoza', 'yadira garza espinoza', 'yadira garza espinoza', 'yadira garza espinoza', 'yadira garza espinoza', 'yadira garza espinoza', 'yadira garza espinoza', 'yadira garza espinoza', 'yadira garza espinoza', 'yadira garza espinoza', 'yadira garza espinoza', 'yadira garza espinoza', 'yadira garza espinoza', 'yadira garza espinoza', 'yadira garza espinoza '], ['alicia montserrat frias mendoza', 'alicia montserrat frias mendoza', 'alicia montserrat frias mendoza', 'alicia montserrat frias mendoza', 'alicia montserrat frias mendoza', 'alicia montserrat frias mendoza', 'alicia montserrat frias mendoza', 'alicia montserrat frias mendoza', 'alicia montserrat frias mendoza', 'alicia montserrat frias mendoza', 'alicia montserrat frias mendoza', 'alicia montserrat frias mendoza', 'alicia montserrat frias mendoza', 'alicia montserrat frias mendoza', 'alicia montserrat frias mendoza', 'alicia montserrat frias mendoza', 'alicia montserrat frias mendoza', 'alicia montserrat frias mendoza', 'alicia montserrat frias mendoza', 'alicia montserrat frias mendoza', 'alicia montserrat frias mendoza', 'alicia montserrat frias mendoza', 'alicia montserrat frias mendoza', 'alicia montserrat frias mendoza', 'alicia montserrat frias mendoza', 'alicia montserrat frias mendoza', 'alicia montserrat frias mendoza', 'alicia monserrat frias mendoza', 'alicia monserrat frias mendoza', 'alicia montserrat frias mendoza', 'alicia montserrat frias mendoza', 'alicia montserrat frias mendoza', 'alicia montserrat frias mendoza', 'alicia montserrat frias mendoza', 'alicia montserrat frias mendoza', 'alicia montserrat frias mendoza'], ['mercedes aurora jimenez olivo', 'mercedes aurora jimenez olivo', 'mercedes aurora jimenez olivo', 'mercedes aurora jimenez olivo', 'mercedes aurora jimenez olivo', 'mercedes aurora jimenez olivo', 'mercedes aurora jimenez olivo', 'mercedes aurora jimenez olivo', 'mercedes aurora jimenez olivo', 'mercedes aurora jimenez olivo', 'mercedes aurora jimenez olivo', 'mercedes aurora jimenez olivo', 'mercedes aurora jimenez olivo', 'mercedes aurora jimenez olivo', 'mercedes aurora jimenez olivo', 'mercedes aurora jimenez olivo', 'mercedes aurora jimenez olivo'], ['lura elizabeth jimenez moreno', 'laura elizabeth jimenez moreno', 'laura elizabeth jimenez moreno', 'laura elizabeth jimenez moreno', 'laura elizabeth jimenez moreno', 'laura elizabeth jimenez moreno', 'laura elizabeth jimenez moreno', 'laura elizabeth jimenez moreno'], ['karen priscila limon perez', 'karen priscila limon perez', 'karen priscila limon perez'], ['adriana estefani medina cruz', 'adriana estefani medina cruz', 'adriana estefani medina cruz', 'adriana estefani medina cruz', 'adriana estefani medina cruz', 'adriana estefani medina cruz', 'adriana estefani medina cruz', 'adriana estefani medina cruz', 'adriana estefani medina cruz', 'adriana estefani medina cruz', 'adriana estefani medina cruz', 'adriana estefani medina cruz', 'adriana estefani medina cruz', 'adriana estefani medina cruz'], ['linda karina baez garcia', 'linda karina baez garcia', 'linda karina baez garcia', 'linda karina baez garcia', 'linda karina baez garcia', 'linda karina baez garcia', 'linda karina baez garcia', 'linda karina baez garcia', 'linda karina baez garcia', 'linda karina baez garcia', 'linda karina baez garcia', 'linda karina baez garcia', 'linda karina baez garcia', 'linda karina baez garcia'], ['ada santasita torres rodriguez', 'ada santasita torres rodriguez', 'ada santasita torres rodriguez', 'ada santasita torres rodriguez', 'ada santasita torres rodriguez', 'ada santasita torres rodriguez', 'ada santasita torres rodriguez', 'ada santasita torres rodriguez', 'ada santasita torres rodriguez', 'ada santasita torres rodriguez', 'ada santasita torres rodriguez', 'ada santasita torres rodriguez', 'ada santasita torres rodriguez', 'ada santasita torres rodriguez'], ['ma. guadalupe martinez guerrero', 'ma. guadalupe martinez guerrero'], ['itzel fernanda sanchez flores', 'itzel fernanda sanchez flores', 'itzel fernanda sanchez flores', 'itzel fernanda sanchez flores', 'itzel fernanda sanchez flores', 'itzel fernanda sanchez flores', 'itzel fernanda sanchez flores', 'itzel fernanda sanchez flores', 'itzel fernanda sanchez flores', 'itzel fernanda sanchez flores', 'itzel fernanda sanchez flores'], ['sagrario nallely juarez pedroza', 'sagrario nallely juarez pedroza', 'sagrario nallely juarez pedroza', 'sagrario nallely juarez pedroza', 'sagrario nallely juarez pedroza', 'sagrario nallely juarez pedroza', 'sagrario nallely juarez pedroza', 'sagrario nallely juarez pedroza', 'sagrario nallely juarez pedroza', 'sagrario nallely juarez pedroza', 'sagrario nallely juárez pedroza', 'sagrario nallely juárez pedroza', 'sagrario nallely juarez pedroza'], ['nidia guadalupe cerda briones', 'nidia guadalupe cerda briones', 'nidia guadalupe cerda briones', 'nidia guadalupe cerda briones', 'nidia guadalupe cerda briones'], ['jeniffer elena gara serna', 'jeniffer elena gara serna', 'jenniffer elen garza serna', 'jenniffer elen garza serna'], ['mayra cecilia lozano tello', 'mayra cecilia lozano tello'], ['patricia reyna vargas', 'patricia reyna vargas', 'patricia reyna vargas', 'patricia reyna vargas'], ['juana hernandez coronel', 'juana hernandez coronel', 'juana hernandez coronel'], ['nan', 'nan', 'nan', 'nan', 'nan', 'nan', 'nan', 'nan', 'nan', 'nan', 'nan', 'nan', 'nan', 'nan', 'nan', 'nan', 'nan'], ['rosalinda wondoly', 'rosalinda wondoly', 'rosalinda wondoly', 'rosalinda wondoly', 'rosalinda wondoly', 'rosalinda wondoly', 'rosalinda wondoly', 'rosalinda wondoly'], ['laura carranza rodriguez. ', 'laura carranza rodriguez. ', 'laura carranza rodriguez. ', 'laura carranza rodriguez. ', 'laura carranza rodriguez. ', 'laura carranza rodriguez. ', 'laura carranza rodriguez. ', 'laura carranza rodriguez. ', 'laura carranza rodriguez. '], ['blanca isela de la cruz martinez ', 'blanca isela de la cruz martinez ', 'blanca isela de la cruz martinez ', 'blanca isela de la cruz martinez ', 'blanca isela de la cruz martinez ', 'blanca isela de la cruz martinez ', 'blanca isela de la cruz martinez '], ['julia garcia romero ', 'julia garcia romero ', 'julia garcia romero ', 'julia garcia romero '], ['blanca berenice ', 'blanca berenice '], ['naidelin abigail hernandez aldana ', 'naidelin abigail hernandez aldana ', 'naidelin abigail hernandez aldana ', 'naidelin abigail hernandez aldana ', 'naidelin abigail hernandez aldana ', 'naidelin abigail hernandez aldana '], ['alma rosa rivera', 'alma rosa rivera', 'alma rosa rivera'], ['keyla natali hernández corpus', 'keyla natali hernández corpus', 'keyla natali hernández corpus', 'keyla natali hernández corpus'], ['jessica castillo hurtado ', 'jessica castillo hurtado ', 'jessica castillo hurtado ', 'jessica castillo hurtado ', 'jessica castillo hurtado ', 'jessica castillo hurtado ', 'jessica castillo hurtado '], ['blanca berenice urbina garcia'], ['miriam lucia narvaez rocha', 'miriam lucia narvaez rocha ', 'miriam lucia narvaez rocha', 'miriam lucia narvaez rocha'], ['laura alicia hernandez martinez', 'laura alicia hernandez martinez', 'laura alicia hernandez martinez', 'laura alicia hernandez martinez'], ['karla judith bernal r.']]\n"
     ]
    }
   ],
   "source": [
    "from rapidfuzz import fuzz\n",
    "\n",
    "# Lista de nombres (asegúrate de inicializar esta variable)\n",
    "names = nombres_lista\n",
    "\n",
    "# Función para agrupar nombres similares\n",
    "def cluster_similar_names(names, threshold=80):\n",
    "    clusters = []\n",
    "    for name in names:\n",
    "        # Convierte el nombre a string si no lo es y lo transforma a minúsculas\n",
    "        if not isinstance(name, str):\n",
    "            name = str(name)\n",
    "        name = name.lower()\n",
    "        # Revisa si el nombre ya está en un grupo\n",
    "        added = False\n",
    "        for cluster in clusters:\n",
    "            # Compara con el primer elemento de cada grupo\n",
    "            if fuzz.ratio(name, cluster[0]) >= threshold:\n",
    "                cluster.append(name)\n",
    "                added = True\n",
    "                break\n",
    "        if not added:\n",
    "            clusters.append([name])  # Crea un nuevo grupo\n",
    "    return clusters\n",
    "\n",
    "clusters = cluster_similar_names(names)\n",
    "print(clusters)"
   ]
  },
  {
   "cell_type": "code",
   "execution_count": 16,
   "metadata": {},
   "outputs": [
    {
     "name": "stdout",
     "output_type": "stream",
     "text": [
      "['virginia balderas martínez', 'rosalinda wendoly portillo camarillo', 'selene lizette garcia banda', 'beatriz ordoñez castellanos', 'laura azucena carranza rodríguez', 'isabel', 'rosalba caballero alonso', 'reina isabel trujillo', 'rosalinda sanchez hernandez', 'ana', 'laura', 'selene', 'rosalinda', 'virginia', 'beatriz', 'yolanda ramos', 'evelyn nataly palacios ibarra.', 'gabriela navarrete.', 'gabriela', 'ana brisa.', 'monica villalvazo chacon', 'yadira garza espinoza', 'alicia montserrat frias mendoza', 'mercedes aurora jimenez olivo', 'lura elizabeth jimenez moreno', 'karen priscila limon perez', 'adriana estefani medina cruz', 'linda karina baez garcia', 'ada santasita torres rodriguez', 'ma. guadalupe martinez guerrero', 'itzel fernanda sanchez flores', 'sagrario nallely juarez pedroza', 'nidia guadalupe cerda briones', 'jeniffer elena gara serna', 'mayra cecilia lozano tello', 'patricia reyna vargas', 'juana hernandez coronel', 'nan', 'rosalinda wondoly', 'laura carranza rodriguez. ', 'blanca isela de la cruz martinez ', 'julia garcia romero ', 'blanca berenice ', 'naidelin abigail hernandez aldana ', 'alma rosa rivera', 'keyla natali hernández corpus', 'jessica castillo hurtado ', 'blanca berenice urbina garcia', 'miriam lucia narvaez rocha', 'laura alicia hernandez martinez', 'karla judith bernal r.']\n"
     ]
    }
   ],
   "source": [
    "representative_names = [group[0] for group in clusters]\n",
    "print(representative_names)"
   ]
  },
  {
   "cell_type": "code",
   "execution_count": 17,
   "metadata": {},
   "outputs": [
    {
     "name": "stdout",
     "output_type": "stream",
     "text": [
      "['virginia balderas martínez', 'rosalinda wendoly portillo camarillo', 'selene lizette garcia banda', 'beatriz ordoñez castellanos', 'laura azucena carranza rodríguez', 'isabel', 'rosalba caballero alonso', 'reina isabel trujillo', 'rosalinda sanchez hernandez', 'ana', 'laura', 'selene', 'rosalinda', 'virginia', 'beatriz', 'yolanda ramos', 'evelyn nataly palacios ibarra.', 'gabriela navarrete.', 'gabriela', 'ana brisa.', 'monica villalvazo chacon', 'yadira garza espinoza', 'alicia montserrat frias mendoza', 'mercedes aurora jimenez olivo', 'lura elizabeth jimenez moreno', 'karen priscila limon perez', 'adriana estefani medina cruz', 'linda karina baez garcia', 'ada santasita torres rodriguez', 'ma. guadalupe martinez guerrero', 'itzel fernanda sanchez flores', 'sagrario nallely juarez pedroza', 'nidia guadalupe cerda briones', 'jeniffer elena gara serna', 'mayra cecilia lozano tello', 'patricia reyna vargas', 'juana hernandez coronel', 'nan', 'rosalinda wondoly', 'laura carranza rodriguez. ', 'blanca isela de la cruz martinez ', 'julia garcia romero ', 'blanca berenice ', 'naidelin abigail hernandez aldana ', 'alma rosa rivera', 'keyla natali hernández corpus', 'jessica castillo hurtado ', 'blanca berenice urbina garcia', 'miriam lucia narvaez rocha', 'laura alicia hernandez martinez', 'karla judith bernal r.']\n"
     ]
    }
   ],
   "source": [
    "# Remove NaN values\n",
    "cleaned_list = [x for x in representative_names if not pd.isna(x)]\n",
    "\n",
    "print(cleaned_list)  # Output: [1, 2, 4, 5"
   ]
  },
  {
   "cell_type": "code",
   "execution_count": 18,
   "metadata": {},
   "outputs": [
    {
     "data": {
      "text/plain": [
       "51"
      ]
     },
     "execution_count": 18,
     "metadata": {},
     "output_type": "execute_result"
    }
   ],
   "source": [
    "len(cleaned_list)"
   ]
  },
  {
   "cell_type": "code",
   "execution_count": 20,
   "metadata": {},
   "outputs": [
    {
     "data": {
      "text/plain": [
       "np.int64(423)"
      ]
     },
     "execution_count": 20,
     "metadata": {},
     "output_type": "execute_result"
    }
   ],
   "source": [
    "conteo = (df['Concepto'] == \"Sesión\").sum()\n",
    "conteo"
   ]
  },
  {
   "cell_type": "code",
   "execution_count": null,
   "metadata": {},
   "outputs": [],
   "source": []
  }
 ],
 "metadata": {
  "kernelspec": {
   "display_name": "cdaplicada",
   "language": "python",
   "name": "python3"
  },
  "language_info": {
   "codemirror_mode": {
    "name": "ipython",
    "version": 3
   },
   "file_extension": ".py",
   "mimetype": "text/x-python",
   "name": "python",
   "nbconvert_exporter": "python",
   "pygments_lexer": "ipython3",
   "version": "3.9.19"
  }
 },
 "nbformat": 4,
 "nbformat_minor": 2
}
