{
 "cells": [
  {
   "cell_type": "code",
   "execution_count": 1,
   "metadata": {},
   "outputs": [],
   "source": [
    "import pandas as pd\n",
    "import plotly.graph_objects as go\n",
    "from datetime import datetime\n",
    "import os\n",
    "import plotly.io as pio"
   ]
  },
  {
   "cell_type": "code",
   "execution_count": 2,
   "metadata": {},
   "outputs": [],
   "source": [
    "folder_name = \"Vis_Metricas\"\n",
    "if not os.path.exists(folder_name):\n",
    "    os.makedirs(folder_name)"
   ]
  },
  {
   "cell_type": "code",
   "execution_count": 3,
   "metadata": {},
   "outputs": [],
   "source": [
    "df1 = pd.read_csv('BASE DE DATOS PACIENTES - Pacientes.csv')\n",
    "df2 = pd.read_csv('AGENDA SEMANAL Carmen - Hoja 1.csv')\n",
    "df3 = pd.read_csv('AGENDA SEMANAL Miriam - Hoja 1.csv')"
   ]
  },
  {
   "cell_type": "code",
   "execution_count": 4,
   "metadata": {},
   "outputs": [
    {
     "data": {
      "text/html": [
       "<div>\n",
       "<style scoped>\n",
       "    .dataframe tbody tr th:only-of-type {\n",
       "        vertical-align: middle;\n",
       "    }\n",
       "\n",
       "    .dataframe tbody tr th {\n",
       "        vertical-align: top;\n",
       "    }\n",
       "\n",
       "    .dataframe thead th {\n",
       "        text-align: right;\n",
       "    }\n",
       "</style>\n",
       "<table border=\"1\" class=\"dataframe\">\n",
       "  <thead>\n",
       "    <tr style=\"text-align: right;\">\n",
       "      <th></th>\n",
       "      <th>Psicóloga</th>\n",
       "      <th>Nombre Paciente</th>\n",
       "      <th>Folio</th>\n",
       "      <th>CURP</th>\n",
       "      <th>Tecnología disponible</th>\n",
       "      <th>Tipo de Tecnología</th>\n",
       "      <th>Fecha de Ingreso</th>\n",
       "      <th>Fecha de Salida</th>\n",
       "      <th>Razón Salida</th>\n",
       "      <th>Activo</th>\n",
       "    </tr>\n",
       "  </thead>\n",
       "  <tbody>\n",
       "    <tr>\n",
       "      <th>0</th>\n",
       "      <td>Carmen Treviño</td>\n",
       "      <td>Rosalba Caballero Alonso</td>\n",
       "      <td>24033422.0</td>\n",
       "      <td>CAAR760814MNLBLS05</td>\n",
       "      <td>Si</td>\n",
       "      <td>Celular</td>\n",
       "      <td>13/09/2024</td>\n",
       "      <td>NaN</td>\n",
       "      <td>NaN</td>\n",
       "      <td>Activa</td>\n",
       "    </tr>\n",
       "    <tr>\n",
       "      <th>1</th>\n",
       "      <td>Carmen Treviño</td>\n",
       "      <td>Virginia Balderas Martínez</td>\n",
       "      <td>3944.0</td>\n",
       "      <td>BAMV800113MNLRR06</td>\n",
       "      <td>Si</td>\n",
       "      <td>Celular</td>\n",
       "      <td>29/04/2024</td>\n",
       "      <td>NaN</td>\n",
       "      <td>NaN</td>\n",
       "      <td>Activa</td>\n",
       "    </tr>\n",
       "    <tr>\n",
       "      <th>2</th>\n",
       "      <td>Carmen Treviño</td>\n",
       "      <td>Laura Azucena Carranza Rodríguez</td>\n",
       "      <td>252023.0</td>\n",
       "      <td>CARL860523MSPRDR08</td>\n",
       "      <td>Si</td>\n",
       "      <td>Celular</td>\n",
       "      <td>29/04/2024</td>\n",
       "      <td>NaN</td>\n",
       "      <td>NaN</td>\n",
       "      <td>Activa</td>\n",
       "    </tr>\n",
       "    <tr>\n",
       "      <th>3</th>\n",
       "      <td>Carmen Treviño</td>\n",
       "      <td>Selene Lizette Garcia Banda</td>\n",
       "      <td>24000519.0</td>\n",
       "      <td>GABS910915MNLRNL00</td>\n",
       "      <td>Si</td>\n",
       "      <td>Celular</td>\n",
       "      <td>16/04/2024</td>\n",
       "      <td>NaN</td>\n",
       "      <td>NaN</td>\n",
       "      <td>Activa</td>\n",
       "    </tr>\n",
       "    <tr>\n",
       "      <th>4</th>\n",
       "      <td>Carmen Treviño</td>\n",
       "      <td>Isabel</td>\n",
       "      <td>24000493.0</td>\n",
       "      <td>TUER010529MNLRSYA6</td>\n",
       "      <td>Si</td>\n",
       "      <td>Celular</td>\n",
       "      <td>06/05/2024</td>\n",
       "      <td>NaN</td>\n",
       "      <td>NaN</td>\n",
       "      <td>Activa</td>\n",
       "    </tr>\n",
       "    <tr>\n",
       "      <th>5</th>\n",
       "      <td>Carmen Treviño</td>\n",
       "      <td>Rosalinda Wendoly Portillo Camarillo</td>\n",
       "      <td>4081.0</td>\n",
       "      <td>POCR830318MNLRMS01</td>\n",
       "      <td>Si</td>\n",
       "      <td>Celular</td>\n",
       "      <td>30/04/2024</td>\n",
       "      <td>NaN</td>\n",
       "      <td>NaN</td>\n",
       "      <td>Activa</td>\n",
       "    </tr>\n",
       "    <tr>\n",
       "      <th>6</th>\n",
       "      <td>Carmen Treviño</td>\n",
       "      <td>Beatriz Ordoñez Castellanos</td>\n",
       "      <td>24000519.0</td>\n",
       "      <td>OOCB890725MVZRST05</td>\n",
       "      <td>Si</td>\n",
       "      <td>Celular</td>\n",
       "      <td>06/05/2024</td>\n",
       "      <td>NaN</td>\n",
       "      <td>NaN</td>\n",
       "      <td>Activa</td>\n",
       "    </tr>\n",
       "    <tr>\n",
       "      <th>8</th>\n",
       "      <td>Miriam Prieto</td>\n",
       "      <td>Monica Villlvazo Chacon</td>\n",
       "      <td>3476.0</td>\n",
       "      <td>VICM821213MJCLHN04</td>\n",
       "      <td>Si</td>\n",
       "      <td>Celular</td>\n",
       "      <td>17/07/23</td>\n",
       "      <td>NaN</td>\n",
       "      <td>NaN</td>\n",
       "      <td>Activa</td>\n",
       "    </tr>\n",
       "    <tr>\n",
       "      <th>9</th>\n",
       "      <td>Miriam Prieto</td>\n",
       "      <td>Yadira Garza Espinoza</td>\n",
       "      <td>24000048.0</td>\n",
       "      <td>GAEY710531MNLRSD00</td>\n",
       "      <td>Si</td>\n",
       "      <td>Celular</td>\n",
       "      <td>30/01/24</td>\n",
       "      <td>NaN</td>\n",
       "      <td>NaN</td>\n",
       "      <td>Activa</td>\n",
       "    </tr>\n",
       "    <tr>\n",
       "      <th>10</th>\n",
       "      <td>Miriam Prieto</td>\n",
       "      <td>Alicia Monserrat Frias Mendoza</td>\n",
       "      <td>240338.0</td>\n",
       "      <td>FIMA910310MNLRNL02</td>\n",
       "      <td>Si</td>\n",
       "      <td>Celular</td>\n",
       "      <td>06/02/24</td>\n",
       "      <td>NaN</td>\n",
       "      <td>NaN</td>\n",
       "      <td>Activa</td>\n",
       "    </tr>\n",
       "    <tr>\n",
       "      <th>11</th>\n",
       "      <td>Miriam Prieto</td>\n",
       "      <td>Mercedes Aurora JImenez Olivo</td>\n",
       "      <td>20036784.0</td>\n",
       "      <td>JIOM820525MNLMLR03</td>\n",
       "      <td>Si</td>\n",
       "      <td>Celular</td>\n",
       "      <td>20/06/24</td>\n",
       "      <td>NaN</td>\n",
       "      <td>NaN</td>\n",
       "      <td>Activa</td>\n",
       "    </tr>\n",
       "  </tbody>\n",
       "</table>\n",
       "</div>"
      ],
      "text/plain": [
       "         Psicóloga                       Nombre Paciente       Folio  \\\n",
       "0   Carmen Treviño              Rosalba Caballero Alonso  24033422.0   \n",
       "1   Carmen Treviño            Virginia Balderas Martínez      3944.0   \n",
       "2   Carmen Treviño      Laura Azucena Carranza Rodríguez    252023.0   \n",
       "3   Carmen Treviño           Selene Lizette Garcia Banda  24000519.0   \n",
       "4   Carmen Treviño                                Isabel  24000493.0   \n",
       "5   Carmen Treviño  Rosalinda Wendoly Portillo Camarillo      4081.0   \n",
       "6   Carmen Treviño           Beatriz Ordoñez Castellanos  24000519.0   \n",
       "8    Miriam Prieto               Monica Villlvazo Chacon      3476.0   \n",
       "9    Miriam Prieto                 Yadira Garza Espinoza  24000048.0   \n",
       "10   Miriam Prieto        Alicia Monserrat Frias Mendoza    240338.0   \n",
       "11   Miriam Prieto         Mercedes Aurora JImenez Olivo  20036784.0   \n",
       "\n",
       "                  CURP Tecnología disponible Tipo de Tecnología  \\\n",
       "0   CAAR760814MNLBLS05                    Si           Celular    \n",
       "1    BAMV800113MNLRR06                    Si           Celular    \n",
       "2   CARL860523MSPRDR08                    Si           Celular    \n",
       "3   GABS910915MNLRNL00                    Si           Celular    \n",
       "4   TUER010529MNLRSYA6                    Si           Celular    \n",
       "5   POCR830318MNLRMS01                    Si           Celular    \n",
       "6   OOCB890725MVZRST05                    Si           Celular    \n",
       "8   VICM821213MJCLHN04                    Si            Celular   \n",
       "9   GAEY710531MNLRSD00                    Si           Celular    \n",
       "10  FIMA910310MNLRNL02                    Si            Celular   \n",
       "11  JIOM820525MNLMLR03                    Si            Celular   \n",
       "\n",
       "   Fecha de Ingreso  Fecha de Salida  Razón Salida  Activo  \n",
       "0        13/09/2024              NaN           NaN  Activa  \n",
       "1        29/04/2024              NaN           NaN  Activa  \n",
       "2        29/04/2024              NaN           NaN  Activa  \n",
       "3        16/04/2024              NaN           NaN  Activa  \n",
       "4        06/05/2024              NaN           NaN  Activa  \n",
       "5        30/04/2024              NaN           NaN  Activa  \n",
       "6        06/05/2024              NaN           NaN  Activa  \n",
       "8          17/07/23              NaN           NaN  Activa  \n",
       "9          30/01/24              NaN           NaN  Activa  \n",
       "10         06/02/24              NaN           NaN  Activa  \n",
       "11         20/06/24              NaN           NaN  Activa  "
      ]
     },
     "execution_count": 4,
     "metadata": {},
     "output_type": "execute_result"
    }
   ],
   "source": [
    "df1 = df1.dropna(how = 'all')\n",
    "df1"
   ]
  },
  {
   "cell_type": "code",
   "execution_count": 5,
   "metadata": {},
   "outputs": [
    {
     "data": {
      "text/html": [
       "<div>\n",
       "<style scoped>\n",
       "    .dataframe tbody tr th:only-of-type {\n",
       "        vertical-align: middle;\n",
       "    }\n",
       "\n",
       "    .dataframe tbody tr th {\n",
       "        vertical-align: top;\n",
       "    }\n",
       "\n",
       "    .dataframe thead th {\n",
       "        text-align: right;\n",
       "    }\n",
       "</style>\n",
       "<table border=\"1\" class=\"dataframe\">\n",
       "  <thead>\n",
       "    <tr style=\"text-align: right;\">\n",
       "      <th></th>\n",
       "      <th>Semana</th>\n",
       "      <th>Concepto</th>\n",
       "      <th>Fecha de Concepto</th>\n",
       "      <th>Psicóloga Asignada</th>\n",
       "      <th>Nombre Completo del Paciente</th>\n",
       "      <th>Folio del Paciente</th>\n",
       "      <th>Número de sesión</th>\n",
       "      <th>Asistió Paciente</th>\n",
       "      <th>Reagendada</th>\n",
       "      <th>Fecha siguiente cita</th>\n",
       "      <th>Captura de Pantalla</th>\n",
       "      <th>Observaciones generales</th>\n",
       "    </tr>\n",
       "  </thead>\n",
       "  <tbody>\n",
       "    <tr>\n",
       "      <th>0</th>\n",
       "      <td>30/09-04/10</td>\n",
       "      <td>Sesión</td>\n",
       "      <td>30/9/24</td>\n",
       "      <td>Carmen Treviño</td>\n",
       "      <td>Rosalinda Wondoly</td>\n",
       "      <td>4081</td>\n",
       "      <td>26</td>\n",
       "      <td>Si</td>\n",
       "      <td>No</td>\n",
       "      <td>N.A</td>\n",
       "      <td>Si</td>\n",
       "      <td>Recibimos un mensaje a lo largo del fin de sem...</td>\n",
       "    </tr>\n",
       "    <tr>\n",
       "      <th>1</th>\n",
       "      <td>30/09-04/10</td>\n",
       "      <td>Sesión</td>\n",
       "      <td>1/10/24</td>\n",
       "      <td>Carmen Treviño</td>\n",
       "      <td>Selene Garcia Banda</td>\n",
       "      <td>24000519</td>\n",
       "      <td>19</td>\n",
       "      <td>Si</td>\n",
       "      <td>No</td>\n",
       "      <td>N.A</td>\n",
       "      <td>Si</td>\n",
       "      <td>Refiere experiementar emociones de desagrado y...</td>\n",
       "    </tr>\n",
       "    <tr>\n",
       "      <th>2</th>\n",
       "      <td>30/09-04/10</td>\n",
       "      <td>Sesión</td>\n",
       "      <td>02/02/10</td>\n",
       "      <td>Carmen Treviño</td>\n",
       "      <td>Laura Carranza Rodriguez.</td>\n",
       "      <td>242023</td>\n",
       "      <td>11</td>\n",
       "      <td>Si</td>\n",
       "      <td>No</td>\n",
       "      <td>N.A</td>\n",
       "      <td>Si</td>\n",
       "      <td>Nerviosismo debido a la próxima cita que tiene...</td>\n",
       "    </tr>\n",
       "    <tr>\n",
       "      <th>3</th>\n",
       "      <td>30/09-04/10</td>\n",
       "      <td>Sesión</td>\n",
       "      <td>2/10/2024</td>\n",
       "      <td>Carmen Treviño</td>\n",
       "      <td>Isabel</td>\n",
       "      <td>24000493</td>\n",
       "      <td>10</td>\n",
       "      <td>Si</td>\n",
       "      <td>No</td>\n",
       "      <td>N.A</td>\n",
       "      <td>Si</td>\n",
       "      <td>Presenta preocupaciones financieras debido a m...</td>\n",
       "    </tr>\n",
       "    <tr>\n",
       "      <th>4</th>\n",
       "      <td>30/09-04/10</td>\n",
       "      <td>Sesión</td>\n",
       "      <td>3/10/24</td>\n",
       "      <td>Carmen Treviño</td>\n",
       "      <td>Beatriz Ordóñez Castellanos.</td>\n",
       "      <td>3691</td>\n",
       "      <td>7</td>\n",
       "      <td>Si</td>\n",
       "      <td>No</td>\n",
       "      <td>N.A</td>\n",
       "      <td>Si</td>\n",
       "      <td>Describe mejoras en el proceso legal de divorc...</td>\n",
       "    </tr>\n",
       "    <tr>\n",
       "      <th>5</th>\n",
       "      <td>30/09-04/10</td>\n",
       "      <td>Sesión</td>\n",
       "      <td>3/10/24</td>\n",
       "      <td>Carmen Treviño</td>\n",
       "      <td>Rosalba Caballero Alonso</td>\n",
       "      <td>24033422</td>\n",
       "      <td>2</td>\n",
       "      <td>Si</td>\n",
       "      <td>Si</td>\n",
       "      <td>7/10/24</td>\n",
       "      <td>Si</td>\n",
       "      <td>Describe experimentar un cuadro de emociones d...</td>\n",
       "    </tr>\n",
       "    <tr>\n",
       "      <th>6</th>\n",
       "      <td>30/09-04/10</td>\n",
       "      <td>Sesión</td>\n",
       "      <td>4/10/24</td>\n",
       "      <td>Carmen Treviño</td>\n",
       "      <td>Virginia Banderas Martinez</td>\n",
       "      <td>3944</td>\n",
       "      <td>12</td>\n",
       "      <td>Si</td>\n",
       "      <td>No</td>\n",
       "      <td>N.A</td>\n",
       "      <td>Si</td>\n",
       "      <td>Las dificultades para dormir persisten, descri...</td>\n",
       "    </tr>\n",
       "    <tr>\n",
       "      <th>7</th>\n",
       "      <td>07 al 11 de Octubre</td>\n",
       "      <td>Sesión</td>\n",
       "      <td>07/10/24</td>\n",
       "      <td>Carmen Treviño</td>\n",
       "      <td>Rosalba Caballero Alonso</td>\n",
       "      <td>24033422</td>\n",
       "      <td>3</td>\n",
       "      <td>Si</td>\n",
       "      <td>No</td>\n",
       "      <td>N.A</td>\n",
       "      <td>Si</td>\n",
       "      <td>La paciente describe haber tendido contacto co...</td>\n",
       "    </tr>\n",
       "    <tr>\n",
       "      <th>8</th>\n",
       "      <td>07 al 11 de Octubre</td>\n",
       "      <td>Sesión</td>\n",
       "      <td>07/10/2024</td>\n",
       "      <td>Carmen Treviño</td>\n",
       "      <td>Selene Garcia Banda</td>\n",
       "      <td>24000519</td>\n",
       "      <td>20</td>\n",
       "      <td>Si</td>\n",
       "      <td>No</td>\n",
       "      <td>N.A</td>\n",
       "      <td>Si</td>\n",
       "      <td>Refiere haber tenido contacto con la pareja ac...</td>\n",
       "    </tr>\n",
       "    <tr>\n",
       "      <th>9</th>\n",
       "      <td>07 al 11 de Octubre</td>\n",
       "      <td>Sesión</td>\n",
       "      <td>08/10/2024</td>\n",
       "      <td>Carmen Treviño</td>\n",
       "      <td>Rosalinda Wondoly</td>\n",
       "      <td>4081</td>\n",
       "      <td>26</td>\n",
       "      <td>No</td>\n",
       "      <td>No</td>\n",
       "      <td>N.A</td>\n",
       "      <td>Si</td>\n",
       "      <td>La paciente canceló la sesión porque se le dia...</td>\n",
       "    </tr>\n",
       "    <tr>\n",
       "      <th>10</th>\n",
       "      <td>07 al 11 de Octubre</td>\n",
       "      <td>Sesión</td>\n",
       "      <td>09/10/2024</td>\n",
       "      <td>Carmen Treviño</td>\n",
       "      <td>Virginia Banderas Martinez</td>\n",
       "      <td>3944</td>\n",
       "      <td>12</td>\n",
       "      <td>No</td>\n",
       "      <td>No</td>\n",
       "      <td>N.A</td>\n",
       "      <td>Si</td>\n",
       "      <td>Cancelación de último minuto debido a no haber...</td>\n",
       "    </tr>\n",
       "    <tr>\n",
       "      <th>11</th>\n",
       "      <td>07 al 11 de Octubre</td>\n",
       "      <td>Sesión</td>\n",
       "      <td>07/10/2024</td>\n",
       "      <td>Carmen Treviño</td>\n",
       "      <td>Laura Carranza Rodriguez.</td>\n",
       "      <td>242023</td>\n",
       "      <td>11</td>\n",
       "      <td>No</td>\n",
       "      <td>No</td>\n",
       "      <td>N.A</td>\n",
       "      <td>Si</td>\n",
       "      <td>La usuaria cuenta con horarios rotativos en el...</td>\n",
       "    </tr>\n",
       "    <tr>\n",
       "      <th>12</th>\n",
       "      <td>07 al 11 de Octubre</td>\n",
       "      <td>Sesión</td>\n",
       "      <td>09/10/2024</td>\n",
       "      <td>Carmen Treviño</td>\n",
       "      <td>Beatriz Ordóñez Castellanos.</td>\n",
       "      <td>3691</td>\n",
       "      <td>8</td>\n",
       "      <td>Si</td>\n",
       "      <td>No</td>\n",
       "      <td>N.A</td>\n",
       "      <td>Si</td>\n",
       "      <td>Describe tener problemas para mantener contact...</td>\n",
       "    </tr>\n",
       "    <tr>\n",
       "      <th>13</th>\n",
       "      <td>07 al 11 de Octubre</td>\n",
       "      <td>Sesión</td>\n",
       "      <td>09/10/2024</td>\n",
       "      <td>Carmen Treviño</td>\n",
       "      <td>Isabel</td>\n",
       "      <td>24000493</td>\n",
       "      <td>11</td>\n",
       "      <td>Si</td>\n",
       "      <td>No</td>\n",
       "      <td>N.A</td>\n",
       "      <td>Si</td>\n",
       "      <td>Retoma actividades deportivas en su día a día ...</td>\n",
       "    </tr>\n",
       "    <tr>\n",
       "      <th>14</th>\n",
       "      <td>14 al 28 de Octubre</td>\n",
       "      <td>Sesión</td>\n",
       "      <td>14/10/2024</td>\n",
       "      <td>Carmen Treviño</td>\n",
       "      <td>Beatriz Ordóñez Castellanos.</td>\n",
       "      <td>3691</td>\n",
       "      <td>9</td>\n",
       "      <td>Si</td>\n",
       "      <td>No</td>\n",
       "      <td>N.A</td>\n",
       "      <td>Si</td>\n",
       "      <td>Beatriz recientemente se comunico fuera de los...</td>\n",
       "    </tr>\n",
       "    <tr>\n",
       "      <th>15</th>\n",
       "      <td>14 al 28 de Octubre</td>\n",
       "      <td>Sesión</td>\n",
       "      <td>15/10/2024</td>\n",
       "      <td>Carmen Treviño</td>\n",
       "      <td>Laura Carranza Rodriguez.</td>\n",
       "      <td>242023</td>\n",
       "      <td>12</td>\n",
       "      <td>Si</td>\n",
       "      <td>No</td>\n",
       "      <td>N.A</td>\n",
       "      <td>Si</td>\n",
       "      <td>Repasamos sus avances al establecer limites en...</td>\n",
       "    </tr>\n",
       "  </tbody>\n",
       "</table>\n",
       "</div>"
      ],
      "text/plain": [
       "                  Semana Concepto Fecha de Concepto Psicóloga Asignada  \\\n",
       "0            30/09-04/10   Sesión           30/9/24     Carmen Treviño   \n",
       "1            30/09-04/10   Sesión           1/10/24     Carmen Treviño   \n",
       "2            30/09-04/10   Sesión          02/02/10     Carmen Treviño   \n",
       "3            30/09-04/10   Sesión         2/10/2024     Carmen Treviño   \n",
       "4            30/09-04/10   Sesión           3/10/24     Carmen Treviño   \n",
       "5            30/09-04/10   Sesión           3/10/24     Carmen Treviño   \n",
       "6            30/09-04/10   Sesión           4/10/24     Carmen Treviño   \n",
       "7   07 al 11 de Octubre    Sesión          07/10/24     Carmen Treviño   \n",
       "8   07 al 11 de Octubre    Sesión        07/10/2024     Carmen Treviño   \n",
       "9   07 al 11 de Octubre    Sesión        08/10/2024     Carmen Treviño   \n",
       "10  07 al 11 de Octubre    Sesión        09/10/2024     Carmen Treviño   \n",
       "11  07 al 11 de Octubre    Sesión        07/10/2024     Carmen Treviño   \n",
       "12  07 al 11 de Octubre    Sesión        09/10/2024     Carmen Treviño   \n",
       "13  07 al 11 de Octubre    Sesión        09/10/2024     Carmen Treviño   \n",
       "14  14 al 28 de Octubre    Sesión        14/10/2024     Carmen Treviño   \n",
       "15  14 al 28 de Octubre    Sesión        15/10/2024     Carmen Treviño   \n",
       "\n",
       "     Nombre Completo del Paciente  Folio del Paciente  Número de sesión  \\\n",
       "0               Rosalinda Wondoly                4081                26   \n",
       "1            Selene Garcia Banda             24000519                19   \n",
       "2      Laura Carranza Rodriguez.               242023                11   \n",
       "3                         Isabel             24000493                10   \n",
       "4   Beatriz Ordóñez Castellanos.                 3691                 7   \n",
       "5       Rosalba Caballero Alonso             24033422                 2   \n",
       "6     Virginia Banderas Martinez                 3944                12   \n",
       "7       Rosalba Caballero Alonso             24033422                 3   \n",
       "8            Selene Garcia Banda             24000519                20   \n",
       "9               Rosalinda Wondoly                4081                26   \n",
       "10    Virginia Banderas Martinez                 3944                12   \n",
       "11     Laura Carranza Rodriguez.               242023                11   \n",
       "12  Beatriz Ordóñez Castellanos.                 3691                 8   \n",
       "13                         Isabel            24000493                11   \n",
       "14  Beatriz Ordóñez Castellanos.                 3691                 9   \n",
       "15     Laura Carranza Rodriguez.               242023                12   \n",
       "\n",
       "   Asistió Paciente Reagendada Fecha siguiente cita Captura de Pantalla  \\\n",
       "0                Si         No                  N.A                  Si   \n",
       "1                Si         No                  N.A                  Si   \n",
       "2                Si         No                 N.A                   Si   \n",
       "3                Si         No                  N.A                  Si   \n",
       "4                Si         No                  N.A                  Si   \n",
       "5                Si         Si              7/10/24                  Si   \n",
       "6                Si         No                  N.A                  Si   \n",
       "7                Si         No                  N.A                  Si   \n",
       "8                Si         No                  N.A                  Si   \n",
       "9                No         No                  N.A                  Si   \n",
       "10               No         No                  N.A                  Si   \n",
       "11               No         No                  N.A                  Si   \n",
       "12               Si         No                  N.A                  Si   \n",
       "13               Si         No                  N.A                  Si   \n",
       "14               Si         No                  N.A                  Si   \n",
       "15               Si         No                  N.A                  Si   \n",
       "\n",
       "                              Observaciones generales  \n",
       "0   Recibimos un mensaje a lo largo del fin de sem...  \n",
       "1   Refiere experiementar emociones de desagrado y...  \n",
       "2   Nerviosismo debido a la próxima cita que tiene...  \n",
       "3   Presenta preocupaciones financieras debido a m...  \n",
       "4   Describe mejoras en el proceso legal de divorc...  \n",
       "5   Describe experimentar un cuadro de emociones d...  \n",
       "6   Las dificultades para dormir persisten, descri...  \n",
       "7   La paciente describe haber tendido contacto co...  \n",
       "8   Refiere haber tenido contacto con la pareja ac...  \n",
       "9   La paciente canceló la sesión porque se le dia...  \n",
       "10  Cancelación de último minuto debido a no haber...  \n",
       "11  La usuaria cuenta con horarios rotativos en el...  \n",
       "12  Describe tener problemas para mantener contact...  \n",
       "13  Retoma actividades deportivas en su día a día ...  \n",
       "14  Beatriz recientemente se comunico fuera de los...  \n",
       "15  Repasamos sus avances al establecer limites en...  "
      ]
     },
     "execution_count": 5,
     "metadata": {},
     "output_type": "execute_result"
    }
   ],
   "source": [
    "df2"
   ]
  },
  {
   "cell_type": "code",
   "execution_count": 6,
   "metadata": {},
   "outputs": [
    {
     "data": {
      "text/html": [
       "<div>\n",
       "<style scoped>\n",
       "    .dataframe tbody tr th:only-of-type {\n",
       "        vertical-align: middle;\n",
       "    }\n",
       "\n",
       "    .dataframe tbody tr th {\n",
       "        vertical-align: top;\n",
       "    }\n",
       "\n",
       "    .dataframe thead th {\n",
       "        text-align: right;\n",
       "    }\n",
       "</style>\n",
       "<table border=\"1\" class=\"dataframe\">\n",
       "  <thead>\n",
       "    <tr style=\"text-align: right;\">\n",
       "      <th></th>\n",
       "      <th>Semana</th>\n",
       "      <th>Concepto</th>\n",
       "      <th>Fecha de Concepto</th>\n",
       "      <th>Psicóloga Asignada</th>\n",
       "      <th>Nombre Completo del Paciente</th>\n",
       "      <th>Folio del Paciente</th>\n",
       "      <th>Número de sesión</th>\n",
       "      <th>Asistió Paciente</th>\n",
       "      <th>Reagendada</th>\n",
       "      <th>Fecha siguiente cita</th>\n",
       "      <th>Captura de Pantalla</th>\n",
       "      <th>Observaciones generales</th>\n",
       "    </tr>\n",
       "  </thead>\n",
       "  <tbody>\n",
       "    <tr>\n",
       "      <th>0</th>\n",
       "      <td>07-11 OCT 2024</td>\n",
       "      <td>Sesión</td>\n",
       "      <td>7/10/24</td>\n",
       "      <td>Miriam Prieto</td>\n",
       "      <td>Yadira Garza Espinoza</td>\n",
       "      <td>24000048</td>\n",
       "      <td>20</td>\n",
       "      <td>Si</td>\n",
       "      <td>NaN</td>\n",
       "      <td>NaN</td>\n",
       "      <td>Si</td>\n",
       "      <td>La sesion se realizo sin problemas por videoll...</td>\n",
       "    </tr>\n",
       "    <tr>\n",
       "      <th>1</th>\n",
       "      <td>07-11 OCT 2024</td>\n",
       "      <td>Sesión</td>\n",
       "      <td>8/10/24</td>\n",
       "      <td>Miriam Prieto</td>\n",
       "      <td>Mercedes A urora Jimenez Olivo</td>\n",
       "      <td>20036784</td>\n",
       "      <td>8</td>\n",
       "      <td>Si</td>\n",
       "      <td>NaN</td>\n",
       "      <td>NaN</td>\n",
       "      <td>Si</td>\n",
       "      <td>La sesion se realizo sin inconvenientes por ll...</td>\n",
       "    </tr>\n",
       "    <tr>\n",
       "      <th>2</th>\n",
       "      <td>07-11 OCT 2024</td>\n",
       "      <td>Sesión</td>\n",
       "      <td>08/10/24</td>\n",
       "      <td>Miriam Prieto</td>\n",
       "      <td>Monica Villalvazo Chacon</td>\n",
       "      <td>20036784</td>\n",
       "      <td>37</td>\n",
       "      <td>Si</td>\n",
       "      <td>NaN</td>\n",
       "      <td>NaN</td>\n",
       "      <td>Si</td>\n",
       "      <td>La sesion se realizo sin inconvenientes por ll...</td>\n",
       "    </tr>\n",
       "    <tr>\n",
       "      <th>3</th>\n",
       "      <td>07-11 OCT 2024</td>\n",
       "      <td>Sesión</td>\n",
       "      <td>9/10/2024</td>\n",
       "      <td>Miriam Prieto</td>\n",
       "      <td>Alicia Monteserrat Frias Mendoza</td>\n",
       "      <td>240338</td>\n",
       "      <td>22</td>\n",
       "      <td>Si</td>\n",
       "      <td>NaN</td>\n",
       "      <td>NaN</td>\n",
       "      <td>Si</td>\n",
       "      <td>La sesion se realizo sin inconvenientes por ll...</td>\n",
       "    </tr>\n",
       "  </tbody>\n",
       "</table>\n",
       "</div>"
      ],
      "text/plain": [
       "           Semana Concepto Fecha de Concepto Psicóloga Asignada  \\\n",
       "0  07-11 OCT 2024   Sesión           7/10/24      Miriam Prieto   \n",
       "1  07-11 OCT 2024   Sesión           8/10/24      Miriam Prieto   \n",
       "2  07-11 OCT 2024   Sesión          08/10/24      Miriam Prieto   \n",
       "3  07-11 OCT 2024   Sesión         9/10/2024      Miriam Prieto   \n",
       "\n",
       "       Nombre Completo del Paciente  Folio del Paciente  Número de sesión  \\\n",
       "0             Yadira Garza Espinoza            24000048                20   \n",
       "1    Mercedes A urora Jimenez Olivo            20036784                 8   \n",
       "2          Monica Villalvazo Chacon            20036784                37   \n",
       "3  Alicia Monteserrat Frias Mendoza              240338                22   \n",
       "\n",
       "  Asistió Paciente  Reagendada  Fecha siguiente cita Captura de Pantalla  \\\n",
       "0               Si         NaN                   NaN                  Si   \n",
       "1               Si         NaN                   NaN                  Si   \n",
       "2               Si         NaN                   NaN                  Si   \n",
       "3               Si         NaN                   NaN                  Si   \n",
       "\n",
       "                             Observaciones generales  \n",
       "0  La sesion se realizo sin problemas por videoll...  \n",
       "1  La sesion se realizo sin inconvenientes por ll...  \n",
       "2  La sesion se realizo sin inconvenientes por ll...  \n",
       "3  La sesion se realizo sin inconvenientes por ll...  "
      ]
     },
     "execution_count": 6,
     "metadata": {},
     "output_type": "execute_result"
    }
   ],
   "source": [
    "df3"
   ]
  },
  {
   "cell_type": "code",
   "execution_count": 7,
   "metadata": {},
   "outputs": [
    {
     "data": {
      "text/html": [
       "<div>\n",
       "<style scoped>\n",
       "    .dataframe tbody tr th:only-of-type {\n",
       "        vertical-align: middle;\n",
       "    }\n",
       "\n",
       "    .dataframe tbody tr th {\n",
       "        vertical-align: top;\n",
       "    }\n",
       "\n",
       "    .dataframe thead th {\n",
       "        text-align: right;\n",
       "    }\n",
       "</style>\n",
       "<table border=\"1\" class=\"dataframe\">\n",
       "  <thead>\n",
       "    <tr style=\"text-align: right;\">\n",
       "      <th></th>\n",
       "      <th>Semana</th>\n",
       "      <th>Concepto</th>\n",
       "      <th>Fecha de Concepto</th>\n",
       "      <th>Psicóloga Asignada</th>\n",
       "      <th>Nombre Completo del Paciente</th>\n",
       "      <th>Folio del Paciente</th>\n",
       "      <th>Número de sesión</th>\n",
       "      <th>Asistió Paciente</th>\n",
       "      <th>Reagendada</th>\n",
       "      <th>Fecha siguiente cita</th>\n",
       "      <th>Captura de Pantalla</th>\n",
       "      <th>Observaciones generales</th>\n",
       "    </tr>\n",
       "  </thead>\n",
       "  <tbody>\n",
       "    <tr>\n",
       "      <th>0</th>\n",
       "      <td>30/09-04/10</td>\n",
       "      <td>Sesión</td>\n",
       "      <td>30/9/24</td>\n",
       "      <td>Carmen Treviño</td>\n",
       "      <td>Rosalinda Wondoly</td>\n",
       "      <td>4081</td>\n",
       "      <td>26</td>\n",
       "      <td>Si</td>\n",
       "      <td>No</td>\n",
       "      <td>N.A</td>\n",
       "      <td>Si</td>\n",
       "      <td>Recibimos un mensaje a lo largo del fin de sem...</td>\n",
       "    </tr>\n",
       "    <tr>\n",
       "      <th>1</th>\n",
       "      <td>30/09-04/10</td>\n",
       "      <td>Sesión</td>\n",
       "      <td>1/10/24</td>\n",
       "      <td>Carmen Treviño</td>\n",
       "      <td>Selene Garcia Banda</td>\n",
       "      <td>24000519</td>\n",
       "      <td>19</td>\n",
       "      <td>Si</td>\n",
       "      <td>No</td>\n",
       "      <td>N.A</td>\n",
       "      <td>Si</td>\n",
       "      <td>Refiere experiementar emociones de desagrado y...</td>\n",
       "    </tr>\n",
       "    <tr>\n",
       "      <th>2</th>\n",
       "      <td>30/09-04/10</td>\n",
       "      <td>Sesión</td>\n",
       "      <td>02/02/10</td>\n",
       "      <td>Carmen Treviño</td>\n",
       "      <td>Laura Carranza Rodriguez.</td>\n",
       "      <td>242023</td>\n",
       "      <td>11</td>\n",
       "      <td>Si</td>\n",
       "      <td>No</td>\n",
       "      <td>N.A</td>\n",
       "      <td>Si</td>\n",
       "      <td>Nerviosismo debido a la próxima cita que tiene...</td>\n",
       "    </tr>\n",
       "    <tr>\n",
       "      <th>3</th>\n",
       "      <td>30/09-04/10</td>\n",
       "      <td>Sesión</td>\n",
       "      <td>2/10/2024</td>\n",
       "      <td>Carmen Treviño</td>\n",
       "      <td>Isabel</td>\n",
       "      <td>24000493</td>\n",
       "      <td>10</td>\n",
       "      <td>Si</td>\n",
       "      <td>No</td>\n",
       "      <td>N.A</td>\n",
       "      <td>Si</td>\n",
       "      <td>Presenta preocupaciones financieras debido a m...</td>\n",
       "    </tr>\n",
       "    <tr>\n",
       "      <th>4</th>\n",
       "      <td>30/09-04/10</td>\n",
       "      <td>Sesión</td>\n",
       "      <td>3/10/24</td>\n",
       "      <td>Carmen Treviño</td>\n",
       "      <td>Beatriz Ordóñez Castellanos.</td>\n",
       "      <td>3691</td>\n",
       "      <td>7</td>\n",
       "      <td>Si</td>\n",
       "      <td>No</td>\n",
       "      <td>N.A</td>\n",
       "      <td>Si</td>\n",
       "      <td>Describe mejoras en el proceso legal de divorc...</td>\n",
       "    </tr>\n",
       "    <tr>\n",
       "      <th>5</th>\n",
       "      <td>30/09-04/10</td>\n",
       "      <td>Sesión</td>\n",
       "      <td>3/10/24</td>\n",
       "      <td>Carmen Treviño</td>\n",
       "      <td>Rosalba Caballero Alonso</td>\n",
       "      <td>24033422</td>\n",
       "      <td>2</td>\n",
       "      <td>Si</td>\n",
       "      <td>Si</td>\n",
       "      <td>7/10/24</td>\n",
       "      <td>Si</td>\n",
       "      <td>Describe experimentar un cuadro de emociones d...</td>\n",
       "    </tr>\n",
       "    <tr>\n",
       "      <th>6</th>\n",
       "      <td>30/09-04/10</td>\n",
       "      <td>Sesión</td>\n",
       "      <td>4/10/24</td>\n",
       "      <td>Carmen Treviño</td>\n",
       "      <td>Virginia Banderas Martinez</td>\n",
       "      <td>3944</td>\n",
       "      <td>12</td>\n",
       "      <td>Si</td>\n",
       "      <td>No</td>\n",
       "      <td>N.A</td>\n",
       "      <td>Si</td>\n",
       "      <td>Las dificultades para dormir persisten, descri...</td>\n",
       "    </tr>\n",
       "    <tr>\n",
       "      <th>7</th>\n",
       "      <td>07 al 11 de Octubre</td>\n",
       "      <td>Sesión</td>\n",
       "      <td>07/10/24</td>\n",
       "      <td>Carmen Treviño</td>\n",
       "      <td>Rosalba Caballero Alonso</td>\n",
       "      <td>24033422</td>\n",
       "      <td>3</td>\n",
       "      <td>Si</td>\n",
       "      <td>No</td>\n",
       "      <td>N.A</td>\n",
       "      <td>Si</td>\n",
       "      <td>La paciente describe haber tendido contacto co...</td>\n",
       "    </tr>\n",
       "    <tr>\n",
       "      <th>8</th>\n",
       "      <td>07 al 11 de Octubre</td>\n",
       "      <td>Sesión</td>\n",
       "      <td>07/10/2024</td>\n",
       "      <td>Carmen Treviño</td>\n",
       "      <td>Selene Garcia Banda</td>\n",
       "      <td>24000519</td>\n",
       "      <td>20</td>\n",
       "      <td>Si</td>\n",
       "      <td>No</td>\n",
       "      <td>N.A</td>\n",
       "      <td>Si</td>\n",
       "      <td>Refiere haber tenido contacto con la pareja ac...</td>\n",
       "    </tr>\n",
       "    <tr>\n",
       "      <th>9</th>\n",
       "      <td>07 al 11 de Octubre</td>\n",
       "      <td>Sesión</td>\n",
       "      <td>08/10/2024</td>\n",
       "      <td>Carmen Treviño</td>\n",
       "      <td>Rosalinda Wondoly</td>\n",
       "      <td>4081</td>\n",
       "      <td>26</td>\n",
       "      <td>No</td>\n",
       "      <td>No</td>\n",
       "      <td>N.A</td>\n",
       "      <td>Si</td>\n",
       "      <td>La paciente canceló la sesión porque se le dia...</td>\n",
       "    </tr>\n",
       "    <tr>\n",
       "      <th>10</th>\n",
       "      <td>07 al 11 de Octubre</td>\n",
       "      <td>Sesión</td>\n",
       "      <td>09/10/2024</td>\n",
       "      <td>Carmen Treviño</td>\n",
       "      <td>Virginia Banderas Martinez</td>\n",
       "      <td>3944</td>\n",
       "      <td>12</td>\n",
       "      <td>No</td>\n",
       "      <td>No</td>\n",
       "      <td>N.A</td>\n",
       "      <td>Si</td>\n",
       "      <td>Cancelación de último minuto debido a no haber...</td>\n",
       "    </tr>\n",
       "    <tr>\n",
       "      <th>11</th>\n",
       "      <td>07 al 11 de Octubre</td>\n",
       "      <td>Sesión</td>\n",
       "      <td>07/10/2024</td>\n",
       "      <td>Carmen Treviño</td>\n",
       "      <td>Laura Carranza Rodriguez.</td>\n",
       "      <td>242023</td>\n",
       "      <td>11</td>\n",
       "      <td>No</td>\n",
       "      <td>No</td>\n",
       "      <td>N.A</td>\n",
       "      <td>Si</td>\n",
       "      <td>La usuaria cuenta con horarios rotativos en el...</td>\n",
       "    </tr>\n",
       "    <tr>\n",
       "      <th>12</th>\n",
       "      <td>07 al 11 de Octubre</td>\n",
       "      <td>Sesión</td>\n",
       "      <td>09/10/2024</td>\n",
       "      <td>Carmen Treviño</td>\n",
       "      <td>Beatriz Ordóñez Castellanos.</td>\n",
       "      <td>3691</td>\n",
       "      <td>8</td>\n",
       "      <td>Si</td>\n",
       "      <td>No</td>\n",
       "      <td>N.A</td>\n",
       "      <td>Si</td>\n",
       "      <td>Describe tener problemas para mantener contact...</td>\n",
       "    </tr>\n",
       "    <tr>\n",
       "      <th>13</th>\n",
       "      <td>07 al 11 de Octubre</td>\n",
       "      <td>Sesión</td>\n",
       "      <td>09/10/2024</td>\n",
       "      <td>Carmen Treviño</td>\n",
       "      <td>Isabel</td>\n",
       "      <td>24000493</td>\n",
       "      <td>11</td>\n",
       "      <td>Si</td>\n",
       "      <td>No</td>\n",
       "      <td>N.A</td>\n",
       "      <td>Si</td>\n",
       "      <td>Retoma actividades deportivas en su día a día ...</td>\n",
       "    </tr>\n",
       "    <tr>\n",
       "      <th>14</th>\n",
       "      <td>14 al 28 de Octubre</td>\n",
       "      <td>Sesión</td>\n",
       "      <td>14/10/2024</td>\n",
       "      <td>Carmen Treviño</td>\n",
       "      <td>Beatriz Ordóñez Castellanos.</td>\n",
       "      <td>3691</td>\n",
       "      <td>9</td>\n",
       "      <td>Si</td>\n",
       "      <td>No</td>\n",
       "      <td>N.A</td>\n",
       "      <td>Si</td>\n",
       "      <td>Beatriz recientemente se comunico fuera de los...</td>\n",
       "    </tr>\n",
       "    <tr>\n",
       "      <th>15</th>\n",
       "      <td>14 al 28 de Octubre</td>\n",
       "      <td>Sesión</td>\n",
       "      <td>15/10/2024</td>\n",
       "      <td>Carmen Treviño</td>\n",
       "      <td>Laura Carranza Rodriguez.</td>\n",
       "      <td>242023</td>\n",
       "      <td>12</td>\n",
       "      <td>Si</td>\n",
       "      <td>No</td>\n",
       "      <td>N.A</td>\n",
       "      <td>Si</td>\n",
       "      <td>Repasamos sus avances al establecer limites en...</td>\n",
       "    </tr>\n",
       "    <tr>\n",
       "      <th>0</th>\n",
       "      <td>07-11 OCT 2024</td>\n",
       "      <td>Sesión</td>\n",
       "      <td>7/10/24</td>\n",
       "      <td>Miriam Prieto</td>\n",
       "      <td>Yadira Garza Espinoza</td>\n",
       "      <td>24000048</td>\n",
       "      <td>20</td>\n",
       "      <td>Si</td>\n",
       "      <td>NaN</td>\n",
       "      <td>NaN</td>\n",
       "      <td>Si</td>\n",
       "      <td>La sesion se realizo sin problemas por videoll...</td>\n",
       "    </tr>\n",
       "    <tr>\n",
       "      <th>1</th>\n",
       "      <td>07-11 OCT 2024</td>\n",
       "      <td>Sesión</td>\n",
       "      <td>8/10/24</td>\n",
       "      <td>Miriam Prieto</td>\n",
       "      <td>Mercedes A urora Jimenez Olivo</td>\n",
       "      <td>20036784</td>\n",
       "      <td>8</td>\n",
       "      <td>Si</td>\n",
       "      <td>NaN</td>\n",
       "      <td>NaN</td>\n",
       "      <td>Si</td>\n",
       "      <td>La sesion se realizo sin inconvenientes por ll...</td>\n",
       "    </tr>\n",
       "    <tr>\n",
       "      <th>2</th>\n",
       "      <td>07-11 OCT 2024</td>\n",
       "      <td>Sesión</td>\n",
       "      <td>08/10/24</td>\n",
       "      <td>Miriam Prieto</td>\n",
       "      <td>Monica Villalvazo Chacon</td>\n",
       "      <td>20036784</td>\n",
       "      <td>37</td>\n",
       "      <td>Si</td>\n",
       "      <td>NaN</td>\n",
       "      <td>NaN</td>\n",
       "      <td>Si</td>\n",
       "      <td>La sesion se realizo sin inconvenientes por ll...</td>\n",
       "    </tr>\n",
       "    <tr>\n",
       "      <th>3</th>\n",
       "      <td>07-11 OCT 2024</td>\n",
       "      <td>Sesión</td>\n",
       "      <td>9/10/2024</td>\n",
       "      <td>Miriam Prieto</td>\n",
       "      <td>Alicia Monteserrat Frias Mendoza</td>\n",
       "      <td>240338</td>\n",
       "      <td>22</td>\n",
       "      <td>Si</td>\n",
       "      <td>NaN</td>\n",
       "      <td>NaN</td>\n",
       "      <td>Si</td>\n",
       "      <td>La sesion se realizo sin inconvenientes por ll...</td>\n",
       "    </tr>\n",
       "  </tbody>\n",
       "</table>\n",
       "</div>"
      ],
      "text/plain": [
       "                  Semana Concepto Fecha de Concepto Psicóloga Asignada  \\\n",
       "0            30/09-04/10   Sesión           30/9/24     Carmen Treviño   \n",
       "1            30/09-04/10   Sesión           1/10/24     Carmen Treviño   \n",
       "2            30/09-04/10   Sesión          02/02/10     Carmen Treviño   \n",
       "3            30/09-04/10   Sesión         2/10/2024     Carmen Treviño   \n",
       "4            30/09-04/10   Sesión           3/10/24     Carmen Treviño   \n",
       "5            30/09-04/10   Sesión           3/10/24     Carmen Treviño   \n",
       "6            30/09-04/10   Sesión           4/10/24     Carmen Treviño   \n",
       "7   07 al 11 de Octubre    Sesión          07/10/24     Carmen Treviño   \n",
       "8   07 al 11 de Octubre    Sesión        07/10/2024     Carmen Treviño   \n",
       "9   07 al 11 de Octubre    Sesión        08/10/2024     Carmen Treviño   \n",
       "10  07 al 11 de Octubre    Sesión        09/10/2024     Carmen Treviño   \n",
       "11  07 al 11 de Octubre    Sesión        07/10/2024     Carmen Treviño   \n",
       "12  07 al 11 de Octubre    Sesión        09/10/2024     Carmen Treviño   \n",
       "13  07 al 11 de Octubre    Sesión        09/10/2024     Carmen Treviño   \n",
       "14  14 al 28 de Octubre    Sesión        14/10/2024     Carmen Treviño   \n",
       "15  14 al 28 de Octubre    Sesión        15/10/2024     Carmen Treviño   \n",
       "0         07-11 OCT 2024   Sesión           7/10/24      Miriam Prieto   \n",
       "1         07-11 OCT 2024   Sesión           8/10/24      Miriam Prieto   \n",
       "2         07-11 OCT 2024   Sesión          08/10/24      Miriam Prieto   \n",
       "3         07-11 OCT 2024   Sesión         9/10/2024      Miriam Prieto   \n",
       "\n",
       "        Nombre Completo del Paciente  Folio del Paciente  Número de sesión  \\\n",
       "0                  Rosalinda Wondoly                4081                26   \n",
       "1               Selene Garcia Banda             24000519                19   \n",
       "2         Laura Carranza Rodriguez.               242023                11   \n",
       "3                            Isabel             24000493                10   \n",
       "4      Beatriz Ordóñez Castellanos.                 3691                 7   \n",
       "5          Rosalba Caballero Alonso             24033422                 2   \n",
       "6        Virginia Banderas Martinez                 3944                12   \n",
       "7          Rosalba Caballero Alonso             24033422                 3   \n",
       "8               Selene Garcia Banda             24000519                20   \n",
       "9                  Rosalinda Wondoly                4081                26   \n",
       "10       Virginia Banderas Martinez                 3944                12   \n",
       "11        Laura Carranza Rodriguez.               242023                11   \n",
       "12     Beatriz Ordóñez Castellanos.                 3691                 8   \n",
       "13                            Isabel            24000493                11   \n",
       "14     Beatriz Ordóñez Castellanos.                 3691                 9   \n",
       "15        Laura Carranza Rodriguez.               242023                12   \n",
       "0              Yadira Garza Espinoza            24000048                20   \n",
       "1     Mercedes A urora Jimenez Olivo            20036784                 8   \n",
       "2           Monica Villalvazo Chacon            20036784                37   \n",
       "3   Alicia Monteserrat Frias Mendoza              240338                22   \n",
       "\n",
       "   Asistió Paciente Reagendada Fecha siguiente cita Captura de Pantalla  \\\n",
       "0                Si         No                  N.A                  Si   \n",
       "1                Si         No                  N.A                  Si   \n",
       "2                Si         No                 N.A                   Si   \n",
       "3                Si         No                  N.A                  Si   \n",
       "4                Si         No                  N.A                  Si   \n",
       "5                Si         Si              7/10/24                  Si   \n",
       "6                Si         No                  N.A                  Si   \n",
       "7                Si         No                  N.A                  Si   \n",
       "8                Si         No                  N.A                  Si   \n",
       "9                No         No                  N.A                  Si   \n",
       "10               No         No                  N.A                  Si   \n",
       "11               No         No                  N.A                  Si   \n",
       "12               Si         No                  N.A                  Si   \n",
       "13               Si         No                  N.A                  Si   \n",
       "14               Si         No                  N.A                  Si   \n",
       "15               Si         No                  N.A                  Si   \n",
       "0                Si        NaN                  NaN                  Si   \n",
       "1                Si        NaN                  NaN                  Si   \n",
       "2                Si        NaN                  NaN                  Si   \n",
       "3                Si        NaN                  NaN                  Si   \n",
       "\n",
       "                              Observaciones generales  \n",
       "0   Recibimos un mensaje a lo largo del fin de sem...  \n",
       "1   Refiere experiementar emociones de desagrado y...  \n",
       "2   Nerviosismo debido a la próxima cita que tiene...  \n",
       "3   Presenta preocupaciones financieras debido a m...  \n",
       "4   Describe mejoras en el proceso legal de divorc...  \n",
       "5   Describe experimentar un cuadro de emociones d...  \n",
       "6   Las dificultades para dormir persisten, descri...  \n",
       "7   La paciente describe haber tendido contacto co...  \n",
       "8   Refiere haber tenido contacto con la pareja ac...  \n",
       "9   La paciente canceló la sesión porque se le dia...  \n",
       "10  Cancelación de último minuto debido a no haber...  \n",
       "11  La usuaria cuenta con horarios rotativos en el...  \n",
       "12  Describe tener problemas para mantener contact...  \n",
       "13  Retoma actividades deportivas en su día a día ...  \n",
       "14  Beatriz recientemente se comunico fuera de los...  \n",
       "15  Repasamos sus avances al establecer limites en...  \n",
       "0   La sesion se realizo sin problemas por videoll...  \n",
       "1   La sesion se realizo sin inconvenientes por ll...  \n",
       "2   La sesion se realizo sin inconvenientes por ll...  \n",
       "3   La sesion se realizo sin inconvenientes por ll...  "
      ]
     },
     "execution_count": 7,
     "metadata": {},
     "output_type": "execute_result"
    }
   ],
   "source": [
    "df4 = pd.concat([df2, df3])\n",
    "df4"
   ]
  },
  {
   "cell_type": "code",
   "execution_count": 8,
   "metadata": {},
   "outputs": [
    {
     "data": {
      "text/html": [
       "<div>\n",
       "<style scoped>\n",
       "    .dataframe tbody tr th:only-of-type {\n",
       "        vertical-align: middle;\n",
       "    }\n",
       "\n",
       "    .dataframe tbody tr th {\n",
       "        vertical-align: top;\n",
       "    }\n",
       "\n",
       "    .dataframe thead th {\n",
       "        text-align: right;\n",
       "    }\n",
       "</style>\n",
       "<table border=\"1\" class=\"dataframe\">\n",
       "  <thead>\n",
       "    <tr style=\"text-align: right;\">\n",
       "      <th></th>\n",
       "      <th>Asistencias</th>\n",
       "      <th>Inasistencias</th>\n",
       "    </tr>\n",
       "  </thead>\n",
       "  <tbody>\n",
       "    <tr>\n",
       "      <th>0</th>\n",
       "      <td>17</td>\n",
       "      <td>3</td>\n",
       "    </tr>\n",
       "  </tbody>\n",
       "</table>\n",
       "</div>"
      ],
      "text/plain": [
       "   Asistencias  Inasistencias\n",
       "0           17              3"
      ]
     },
     "execution_count": 8,
     "metadata": {},
     "output_type": "execute_result"
    }
   ],
   "source": [
    "conteo_asistencia = df4['Asistió Paciente'].value_counts().get('Si', 0)\n",
    "conteo_inasistencia = df4['Asistió Paciente'].value_counts().get('No', 0)\n",
    "df_asistencia = pd.DataFrame({'Asistencias': [conteo_asistencia], 'Inasistencias': [conteo_inasistencia]})\n",
    "df_asistencia"
   ]
  },
  {
   "cell_type": "code",
   "execution_count": 9,
   "metadata": {},
   "outputs": [],
   "source": [
    "labels = df_asistencia.columns.tolist()\n",
    "values = df_asistencia.iloc[0].tolist()\n",
    "\n",
    "# Create a pie chart with custom colors\n",
    "fig = go.Figure(data=[go.Pie(labels=labels, values=values, \n",
    "                            marker=dict(colors=['#87A1E0', '#BA96D0']),\n",
    "                            textfont=dict(size=17, family=\"Arial\", color=\"black\"))])\n",
    "\n",
    "# Update layout to center the title and adjust the legend\n",
    "fig.update_layout(\n",
    "    title_text=\"Asistencias vs Inasistencias\",\n",
    "    title_x=0.5,  # Center the title\n",
    "    legend=dict(\n",
    "        x=0.0,   # Move the legend closer to the chart horizontally\n",
    "        y=0.5,    # Center the legend vertically\n",
    "        traceorder=\"normal\"\n",
    "    ),\n",
    "    width=700,\n",
    ")\n",
    "\n",
    "fig1_path = os.path.join(folder_name, \"Ausentismo.png\")\n",
    "pio.write_image(fig, fig1_path)"
   ]
  },
  {
   "cell_type": "code",
   "execution_count": 10,
   "metadata": {},
   "outputs": [
    {
     "data": {
      "text/html": [
       "<div>\n",
       "<style scoped>\n",
       "    .dataframe tbody tr th:only-of-type {\n",
       "        vertical-align: middle;\n",
       "    }\n",
       "\n",
       "    .dataframe tbody tr th {\n",
       "        vertical-align: top;\n",
       "    }\n",
       "\n",
       "    .dataframe thead th {\n",
       "        text-align: right;\n",
       "    }\n",
       "</style>\n",
       "<table border=\"1\" class=\"dataframe\">\n",
       "  <thead>\n",
       "    <tr style=\"text-align: right;\">\n",
       "      <th></th>\n",
       "      <th>0</th>\n",
       "      <th>1</th>\n",
       "      <th>2</th>\n",
       "      <th>3</th>\n",
       "      <th>edad</th>\n",
       "    </tr>\n",
       "  </thead>\n",
       "  <tbody>\n",
       "    <tr>\n",
       "      <th>0</th>\n",
       "      <td>1976-08-14</td>\n",
       "      <td>1976</td>\n",
       "      <td>8</td>\n",
       "      <td>14</td>\n",
       "      <td>48</td>\n",
       "    </tr>\n",
       "    <tr>\n",
       "      <th>1</th>\n",
       "      <td>1980-01-13</td>\n",
       "      <td>1980</td>\n",
       "      <td>1</td>\n",
       "      <td>13</td>\n",
       "      <td>44</td>\n",
       "    </tr>\n",
       "    <tr>\n",
       "      <th>2</th>\n",
       "      <td>1986-05-23</td>\n",
       "      <td>1986</td>\n",
       "      <td>5</td>\n",
       "      <td>23</td>\n",
       "      <td>38</td>\n",
       "    </tr>\n",
       "    <tr>\n",
       "      <th>3</th>\n",
       "      <td>1991-09-15</td>\n",
       "      <td>1991</td>\n",
       "      <td>9</td>\n",
       "      <td>15</td>\n",
       "      <td>33</td>\n",
       "    </tr>\n",
       "    <tr>\n",
       "      <th>4</th>\n",
       "      <td>2001-05-29</td>\n",
       "      <td>2001</td>\n",
       "      <td>5</td>\n",
       "      <td>29</td>\n",
       "      <td>23</td>\n",
       "    </tr>\n",
       "    <tr>\n",
       "      <th>5</th>\n",
       "      <td>1983-03-18</td>\n",
       "      <td>1983</td>\n",
       "      <td>3</td>\n",
       "      <td>18</td>\n",
       "      <td>41</td>\n",
       "    </tr>\n",
       "    <tr>\n",
       "      <th>6</th>\n",
       "      <td>1989-07-25</td>\n",
       "      <td>1989</td>\n",
       "      <td>7</td>\n",
       "      <td>25</td>\n",
       "      <td>35</td>\n",
       "    </tr>\n",
       "    <tr>\n",
       "      <th>8</th>\n",
       "      <td>1982-12-13</td>\n",
       "      <td>1982</td>\n",
       "      <td>12</td>\n",
       "      <td>13</td>\n",
       "      <td>41</td>\n",
       "    </tr>\n",
       "    <tr>\n",
       "      <th>9</th>\n",
       "      <td>1971-05-31</td>\n",
       "      <td>1971</td>\n",
       "      <td>5</td>\n",
       "      <td>31</td>\n",
       "      <td>53</td>\n",
       "    </tr>\n",
       "    <tr>\n",
       "      <th>10</th>\n",
       "      <td>1991-03-10</td>\n",
       "      <td>1991</td>\n",
       "      <td>3</td>\n",
       "      <td>10</td>\n",
       "      <td>33</td>\n",
       "    </tr>\n",
       "    <tr>\n",
       "      <th>11</th>\n",
       "      <td>1982-05-25</td>\n",
       "      <td>1982</td>\n",
       "      <td>5</td>\n",
       "      <td>25</td>\n",
       "      <td>42</td>\n",
       "    </tr>\n",
       "  </tbody>\n",
       "</table>\n",
       "</div>"
      ],
      "text/plain": [
       "            0     1   2   3  edad\n",
       "0  1976-08-14  1976   8  14    48\n",
       "1  1980-01-13  1980   1  13    44\n",
       "2  1986-05-23  1986   5  23    38\n",
       "3  1991-09-15  1991   9  15    33\n",
       "4  2001-05-29  2001   5  29    23\n",
       "5  1983-03-18  1983   3  18    41\n",
       "6  1989-07-25  1989   7  25    35\n",
       "8  1982-12-13  1982  12  13    41\n",
       "9  1971-05-31  1971   5  31    53\n",
       "10 1991-03-10  1991   3  10    33\n",
       "11 1982-05-25  1982   5  25    42"
      ]
     },
     "execution_count": 10,
     "metadata": {},
     "output_type": "execute_result"
    }
   ],
   "source": [
    "def extract_date(code):\n",
    "    if int(code[4:6]) < 24:\n",
    "        year = int('20' + code[4:6])\n",
    "    else:\n",
    "        year = int('19' + code[4:6])\n",
    "    month = int(code[6:8])\n",
    "    day = int(code[8:10])\n",
    "    full_date = f\"{year:04d}-{month:02d}-{day:02d}\"\n",
    "    return full_date, year, month, day\n",
    "\n",
    "def calculate_age(birthdate):\n",
    "    today = datetime.today()\n",
    "    age = today.year - birthdate.year - ((today.month, today.day) < (birthdate.month, birthdate.day))\n",
    "    return age\n",
    "\n",
    "df_fechas_nacimiento = df1['CURP'].apply(lambda x: pd.Series(extract_date(x)))\n",
    "df_fechas_nacimiento[0] = pd.to_datetime(df_fechas_nacimiento[0])\n",
    "df_fechas_nacimiento\n",
    "df_fechas_nacimiento['edad'] = df_fechas_nacimiento[0].apply(calculate_age)\n",
    "df_fechas_nacimiento\n"
   ]
  },
  {
   "cell_type": "code",
   "execution_count": 11,
   "metadata": {},
   "outputs": [
    {
     "data": {
      "application/vnd.plotly.v1+json": {
       "config": {
        "plotlyServerURL": "https://plot.ly"
       },
       "data": [
        {
         "marker": {
          "color": "#B266FF",
          "line": {
           "color": "rgba(0, 0, 0, 1)",
           "width": 0
          }
         },
         "nbinsx": 5,
         "opacity": 0.5,
         "textfont": {
          "color": "black",
          "size": 14
         },
         "textposition": "inside",
         "texttemplate": "%{y}",
         "type": "histogram",
         "x": [
          48,
          44,
          38,
          33,
          23,
          41,
          35,
          41,
          53,
          33,
          42
         ]
        }
       ],
       "layout": {
        "bargap": 0.1,
        "height": 400,
        "margin": {
         "b": 50,
         "l": 50,
         "r": 50,
         "t": 50
        },
        "paper_bgcolor": "rgba(240, 240, 240, 1)",
        "plot_bgcolor": "rgba(245, 245, 245, 1)",
        "template": {
         "data": {
          "bar": [
           {
            "error_x": {
             "color": "#2a3f5f"
            },
            "error_y": {
             "color": "#2a3f5f"
            },
            "marker": {
             "line": {
              "color": "#E5ECF6",
              "width": 0.5
             },
             "pattern": {
              "fillmode": "overlay",
              "size": 10,
              "solidity": 0.2
             }
            },
            "type": "bar"
           }
          ],
          "barpolar": [
           {
            "marker": {
             "line": {
              "color": "#E5ECF6",
              "width": 0.5
             },
             "pattern": {
              "fillmode": "overlay",
              "size": 10,
              "solidity": 0.2
             }
            },
            "type": "barpolar"
           }
          ],
          "carpet": [
           {
            "aaxis": {
             "endlinecolor": "#2a3f5f",
             "gridcolor": "white",
             "linecolor": "white",
             "minorgridcolor": "white",
             "startlinecolor": "#2a3f5f"
            },
            "baxis": {
             "endlinecolor": "#2a3f5f",
             "gridcolor": "white",
             "linecolor": "white",
             "minorgridcolor": "white",
             "startlinecolor": "#2a3f5f"
            },
            "type": "carpet"
           }
          ],
          "choropleth": [
           {
            "colorbar": {
             "outlinewidth": 0,
             "ticks": ""
            },
            "type": "choropleth"
           }
          ],
          "contour": [
           {
            "colorbar": {
             "outlinewidth": 0,
             "ticks": ""
            },
            "colorscale": [
             [
              0,
              "#0d0887"
             ],
             [
              0.1111111111111111,
              "#46039f"
             ],
             [
              0.2222222222222222,
              "#7201a8"
             ],
             [
              0.3333333333333333,
              "#9c179e"
             ],
             [
              0.4444444444444444,
              "#bd3786"
             ],
             [
              0.5555555555555556,
              "#d8576b"
             ],
             [
              0.6666666666666666,
              "#ed7953"
             ],
             [
              0.7777777777777778,
              "#fb9f3a"
             ],
             [
              0.8888888888888888,
              "#fdca26"
             ],
             [
              1,
              "#f0f921"
             ]
            ],
            "type": "contour"
           }
          ],
          "contourcarpet": [
           {
            "colorbar": {
             "outlinewidth": 0,
             "ticks": ""
            },
            "type": "contourcarpet"
           }
          ],
          "heatmap": [
           {
            "colorbar": {
             "outlinewidth": 0,
             "ticks": ""
            },
            "colorscale": [
             [
              0,
              "#0d0887"
             ],
             [
              0.1111111111111111,
              "#46039f"
             ],
             [
              0.2222222222222222,
              "#7201a8"
             ],
             [
              0.3333333333333333,
              "#9c179e"
             ],
             [
              0.4444444444444444,
              "#bd3786"
             ],
             [
              0.5555555555555556,
              "#d8576b"
             ],
             [
              0.6666666666666666,
              "#ed7953"
             ],
             [
              0.7777777777777778,
              "#fb9f3a"
             ],
             [
              0.8888888888888888,
              "#fdca26"
             ],
             [
              1,
              "#f0f921"
             ]
            ],
            "type": "heatmap"
           }
          ],
          "heatmapgl": [
           {
            "colorbar": {
             "outlinewidth": 0,
             "ticks": ""
            },
            "colorscale": [
             [
              0,
              "#0d0887"
             ],
             [
              0.1111111111111111,
              "#46039f"
             ],
             [
              0.2222222222222222,
              "#7201a8"
             ],
             [
              0.3333333333333333,
              "#9c179e"
             ],
             [
              0.4444444444444444,
              "#bd3786"
             ],
             [
              0.5555555555555556,
              "#d8576b"
             ],
             [
              0.6666666666666666,
              "#ed7953"
             ],
             [
              0.7777777777777778,
              "#fb9f3a"
             ],
             [
              0.8888888888888888,
              "#fdca26"
             ],
             [
              1,
              "#f0f921"
             ]
            ],
            "type": "heatmapgl"
           }
          ],
          "histogram": [
           {
            "marker": {
             "pattern": {
              "fillmode": "overlay",
              "size": 10,
              "solidity": 0.2
             }
            },
            "type": "histogram"
           }
          ],
          "histogram2d": [
           {
            "colorbar": {
             "outlinewidth": 0,
             "ticks": ""
            },
            "colorscale": [
             [
              0,
              "#0d0887"
             ],
             [
              0.1111111111111111,
              "#46039f"
             ],
             [
              0.2222222222222222,
              "#7201a8"
             ],
             [
              0.3333333333333333,
              "#9c179e"
             ],
             [
              0.4444444444444444,
              "#bd3786"
             ],
             [
              0.5555555555555556,
              "#d8576b"
             ],
             [
              0.6666666666666666,
              "#ed7953"
             ],
             [
              0.7777777777777778,
              "#fb9f3a"
             ],
             [
              0.8888888888888888,
              "#fdca26"
             ],
             [
              1,
              "#f0f921"
             ]
            ],
            "type": "histogram2d"
           }
          ],
          "histogram2dcontour": [
           {
            "colorbar": {
             "outlinewidth": 0,
             "ticks": ""
            },
            "colorscale": [
             [
              0,
              "#0d0887"
             ],
             [
              0.1111111111111111,
              "#46039f"
             ],
             [
              0.2222222222222222,
              "#7201a8"
             ],
             [
              0.3333333333333333,
              "#9c179e"
             ],
             [
              0.4444444444444444,
              "#bd3786"
             ],
             [
              0.5555555555555556,
              "#d8576b"
             ],
             [
              0.6666666666666666,
              "#ed7953"
             ],
             [
              0.7777777777777778,
              "#fb9f3a"
             ],
             [
              0.8888888888888888,
              "#fdca26"
             ],
             [
              1,
              "#f0f921"
             ]
            ],
            "type": "histogram2dcontour"
           }
          ],
          "mesh3d": [
           {
            "colorbar": {
             "outlinewidth": 0,
             "ticks": ""
            },
            "type": "mesh3d"
           }
          ],
          "parcoords": [
           {
            "line": {
             "colorbar": {
              "outlinewidth": 0,
              "ticks": ""
             }
            },
            "type": "parcoords"
           }
          ],
          "pie": [
           {
            "automargin": true,
            "type": "pie"
           }
          ],
          "scatter": [
           {
            "fillpattern": {
             "fillmode": "overlay",
             "size": 10,
             "solidity": 0.2
            },
            "type": "scatter"
           }
          ],
          "scatter3d": [
           {
            "line": {
             "colorbar": {
              "outlinewidth": 0,
              "ticks": ""
             }
            },
            "marker": {
             "colorbar": {
              "outlinewidth": 0,
              "ticks": ""
             }
            },
            "type": "scatter3d"
           }
          ],
          "scattercarpet": [
           {
            "marker": {
             "colorbar": {
              "outlinewidth": 0,
              "ticks": ""
             }
            },
            "type": "scattercarpet"
           }
          ],
          "scattergeo": [
           {
            "marker": {
             "colorbar": {
              "outlinewidth": 0,
              "ticks": ""
             }
            },
            "type": "scattergeo"
           }
          ],
          "scattergl": [
           {
            "marker": {
             "colorbar": {
              "outlinewidth": 0,
              "ticks": ""
             }
            },
            "type": "scattergl"
           }
          ],
          "scattermapbox": [
           {
            "marker": {
             "colorbar": {
              "outlinewidth": 0,
              "ticks": ""
             }
            },
            "type": "scattermapbox"
           }
          ],
          "scatterpolar": [
           {
            "marker": {
             "colorbar": {
              "outlinewidth": 0,
              "ticks": ""
             }
            },
            "type": "scatterpolar"
           }
          ],
          "scatterpolargl": [
           {
            "marker": {
             "colorbar": {
              "outlinewidth": 0,
              "ticks": ""
             }
            },
            "type": "scatterpolargl"
           }
          ],
          "scatterternary": [
           {
            "marker": {
             "colorbar": {
              "outlinewidth": 0,
              "ticks": ""
             }
            },
            "type": "scatterternary"
           }
          ],
          "surface": [
           {
            "colorbar": {
             "outlinewidth": 0,
             "ticks": ""
            },
            "colorscale": [
             [
              0,
              "#0d0887"
             ],
             [
              0.1111111111111111,
              "#46039f"
             ],
             [
              0.2222222222222222,
              "#7201a8"
             ],
             [
              0.3333333333333333,
              "#9c179e"
             ],
             [
              0.4444444444444444,
              "#bd3786"
             ],
             [
              0.5555555555555556,
              "#d8576b"
             ],
             [
              0.6666666666666666,
              "#ed7953"
             ],
             [
              0.7777777777777778,
              "#fb9f3a"
             ],
             [
              0.8888888888888888,
              "#fdca26"
             ],
             [
              1,
              "#f0f921"
             ]
            ],
            "type": "surface"
           }
          ],
          "table": [
           {
            "cells": {
             "fill": {
              "color": "#EBF0F8"
             },
             "line": {
              "color": "white"
             }
            },
            "header": {
             "fill": {
              "color": "#C8D4E3"
             },
             "line": {
              "color": "white"
             }
            },
            "type": "table"
           }
          ]
         },
         "layout": {
          "annotationdefaults": {
           "arrowcolor": "#2a3f5f",
           "arrowhead": 0,
           "arrowwidth": 1
          },
          "autotypenumbers": "strict",
          "coloraxis": {
           "colorbar": {
            "outlinewidth": 0,
            "ticks": ""
           }
          },
          "colorscale": {
           "diverging": [
            [
             0,
             "#8e0152"
            ],
            [
             0.1,
             "#c51b7d"
            ],
            [
             0.2,
             "#de77ae"
            ],
            [
             0.3,
             "#f1b6da"
            ],
            [
             0.4,
             "#fde0ef"
            ],
            [
             0.5,
             "#f7f7f7"
            ],
            [
             0.6,
             "#e6f5d0"
            ],
            [
             0.7,
             "#b8e186"
            ],
            [
             0.8,
             "#7fbc41"
            ],
            [
             0.9,
             "#4d9221"
            ],
            [
             1,
             "#276419"
            ]
           ],
           "sequential": [
            [
             0,
             "#0d0887"
            ],
            [
             0.1111111111111111,
             "#46039f"
            ],
            [
             0.2222222222222222,
             "#7201a8"
            ],
            [
             0.3333333333333333,
             "#9c179e"
            ],
            [
             0.4444444444444444,
             "#bd3786"
            ],
            [
             0.5555555555555556,
             "#d8576b"
            ],
            [
             0.6666666666666666,
             "#ed7953"
            ],
            [
             0.7777777777777778,
             "#fb9f3a"
            ],
            [
             0.8888888888888888,
             "#fdca26"
            ],
            [
             1,
             "#f0f921"
            ]
           ],
           "sequentialminus": [
            [
             0,
             "#0d0887"
            ],
            [
             0.1111111111111111,
             "#46039f"
            ],
            [
             0.2222222222222222,
             "#7201a8"
            ],
            [
             0.3333333333333333,
             "#9c179e"
            ],
            [
             0.4444444444444444,
             "#bd3786"
            ],
            [
             0.5555555555555556,
             "#d8576b"
            ],
            [
             0.6666666666666666,
             "#ed7953"
            ],
            [
             0.7777777777777778,
             "#fb9f3a"
            ],
            [
             0.8888888888888888,
             "#fdca26"
            ],
            [
             1,
             "#f0f921"
            ]
           ]
          },
          "colorway": [
           "#636efa",
           "#EF553B",
           "#00cc96",
           "#ab63fa",
           "#FFA15A",
           "#19d3f3",
           "#FF6692",
           "#B6E880",
           "#FF97FF",
           "#FECB52"
          ],
          "font": {
           "color": "#2a3f5f"
          },
          "geo": {
           "bgcolor": "white",
           "lakecolor": "white",
           "landcolor": "#E5ECF6",
           "showlakes": true,
           "showland": true,
           "subunitcolor": "white"
          },
          "hoverlabel": {
           "align": "left"
          },
          "hovermode": "closest",
          "mapbox": {
           "style": "light"
          },
          "paper_bgcolor": "white",
          "plot_bgcolor": "#E5ECF6",
          "polar": {
           "angularaxis": {
            "gridcolor": "white",
            "linecolor": "white",
            "ticks": ""
           },
           "bgcolor": "#E5ECF6",
           "radialaxis": {
            "gridcolor": "white",
            "linecolor": "white",
            "ticks": ""
           }
          },
          "scene": {
           "xaxis": {
            "backgroundcolor": "#E5ECF6",
            "gridcolor": "white",
            "gridwidth": 2,
            "linecolor": "white",
            "showbackground": true,
            "ticks": "",
            "zerolinecolor": "white"
           },
           "yaxis": {
            "backgroundcolor": "#E5ECF6",
            "gridcolor": "white",
            "gridwidth": 2,
            "linecolor": "white",
            "showbackground": true,
            "ticks": "",
            "zerolinecolor": "white"
           },
           "zaxis": {
            "backgroundcolor": "#E5ECF6",
            "gridcolor": "white",
            "gridwidth": 2,
            "linecolor": "white",
            "showbackground": true,
            "ticks": "",
            "zerolinecolor": "white"
           }
          },
          "shapedefaults": {
           "line": {
            "color": "#2a3f5f"
           }
          },
          "ternary": {
           "aaxis": {
            "gridcolor": "white",
            "linecolor": "white",
            "ticks": ""
           },
           "baxis": {
            "gridcolor": "white",
            "linecolor": "white",
            "ticks": ""
           },
           "bgcolor": "#E5ECF6",
           "caxis": {
            "gridcolor": "white",
            "linecolor": "white",
            "ticks": ""
           }
          },
          "title": {
           "x": 0.05
          },
          "xaxis": {
           "automargin": true,
           "gridcolor": "white",
           "linecolor": "white",
           "ticks": "",
           "title": {
            "standoff": 15
           },
           "zerolinecolor": "white",
           "zerolinewidth": 2
          },
          "yaxis": {
           "automargin": true,
           "gridcolor": "white",
           "linecolor": "white",
           "ticks": "",
           "title": {
            "standoff": 15
           },
           "zerolinecolor": "white",
           "zerolinewidth": 2
          }
         }
        },
        "title": {
         "text": "Edades de las pacientes",
         "x": 0.5
        },
        "width": 600,
        "xaxis": {
         "tickmode": "array",
         "ticktext": [
          "20",
          "30",
          "40",
          "50",
          "60"
         ],
         "tickvals": [
          20,
          30,
          40,
          50,
          60
         ],
         "title": {
          "text": "Edades"
         }
        },
        "yaxis": {
         "showgrid": false,
         "tickmode": "array",
         "ticktext": [
          "1",
          "2",
          "3",
          "4",
          "5"
         ],
         "tickvals": [
          1,
          2,
          3,
          4,
          5
         ],
         "title": {
          "text": "Cantidad de pacientes"
         }
        }
       }
      }
     },
     "metadata": {},
     "output_type": "display_data"
    }
   ],
   "source": [
    "# Create the histogram of the 'edad' column\n",
    "fig = go.Figure()\n",
    "\n",
    "# Add histogram trace with custom colors for bars\n",
    "fig.add_trace(go.Histogram(\n",
    "    x=df_fechas_nacimiento['edad'],\n",
    "    nbinsx=5,\n",
    "    marker=dict(color='#B266FF', line=dict(color='rgba(0, 0, 0, 1)', width=0)),\n",
    "    opacity=0.5\n",
    "))\n",
    "\n",
    "# Add annotations (values) on top of each bar\n",
    "fig.update_traces(texttemplate='%{y}', \n",
    "                textposition='inside',\n",
    "                textfont=dict(size=14, color='black'), \n",
    "                opacity=0.5)  # Make values bigger\n",
    "\n",
    "# Update layout for customization\n",
    "fig.update_layout(\n",
    "    title=\"Edades de las pacientes\",\n",
    "    title_x=0.5,  # Center the title\n",
    "    xaxis_title=\"Edades\",\n",
    "    yaxis_title=\"Cantidad de pacientes\",\n",
    "    bargap=0.1,  # Adjust the gap between bars\n",
    "    plot_bgcolor='rgba(245, 245, 245, 1)',  # Change plot background color\n",
    "    paper_bgcolor='rgba(240, 240, 240, 1)',  # Change outer background color\n",
    "    width=600,  # Set a narrower width for the chart\n",
    "    height=400,  # Set the height of the chart\n",
    "    margin=dict(t=50, b=50, r=50, l=50),  # Adjust margins to avoid cutting the values\n",
    ")\n",
    "\n",
    "# Customize x-axis labels\n",
    "fig.update_xaxes(\n",
    "    tickmode='array',\n",
    "    tickvals=[20, 30, 40, 50, 60],  # Customize the tick values on the x-axis\n",
    "    ticktext=['20', '30', '40', '50', '60']  # Customize how the ticks are displayed\n",
    ")\n",
    "\n",
    "# Customize x-axis labels\n",
    "fig.update_yaxes(\n",
    "    tickmode='array',\n",
    "    tickvals=[1, 2, 3, 4, 5],  # Customize the tick values on the x-axis\n",
    "    ticktext=['1', '2', '3', '4', '5']  # Customize how the ticks are displayed\n",
    ")\n",
    "\n",
    "# Remove gridlines on the y-axis\n",
    "fig.update_yaxes(showgrid=False)\n",
    "\n",
    "# Show the histogram\n",
    "fig.show()\n",
    "\n",
    "fig2_path = os.path.join(folder_name, \"Edades.png\")\n",
    "pio.write_image(fig, fig2_path)"
   ]
  },
  {
   "cell_type": "code",
   "execution_count": 12,
   "metadata": {},
   "outputs": [
    {
     "data": {
      "application/vnd.plotly.v1+json": {
       "config": {
        "plotlyServerURL": "https://plot.ly"
       },
       "data": [
        {
         "domain": {
          "x": [
           0,
           1
          ],
          "y": [
           0,
           1
          ]
         },
         "mode": "number",
         "number": {
          "font": {
           "color": "purple",
           "size": 100
          }
         },
         "title": {
          "font": {
           "color": "grey",
           "size": 30
          },
          "text": "Pacientes Activas"
         },
         "type": "indicator",
         "value": 11
        }
       ],
       "layout": {
        "height": 300,
        "margin": {
         "b": 50,
         "l": 50,
         "r": 50,
         "t": 50
        },
        "paper_bgcolor": "white",
        "template": {
         "data": {
          "bar": [
           {
            "error_x": {
             "color": "#2a3f5f"
            },
            "error_y": {
             "color": "#2a3f5f"
            },
            "marker": {
             "line": {
              "color": "#E5ECF6",
              "width": 0.5
             },
             "pattern": {
              "fillmode": "overlay",
              "size": 10,
              "solidity": 0.2
             }
            },
            "type": "bar"
           }
          ],
          "barpolar": [
           {
            "marker": {
             "line": {
              "color": "#E5ECF6",
              "width": 0.5
             },
             "pattern": {
              "fillmode": "overlay",
              "size": 10,
              "solidity": 0.2
             }
            },
            "type": "barpolar"
           }
          ],
          "carpet": [
           {
            "aaxis": {
             "endlinecolor": "#2a3f5f",
             "gridcolor": "white",
             "linecolor": "white",
             "minorgridcolor": "white",
             "startlinecolor": "#2a3f5f"
            },
            "baxis": {
             "endlinecolor": "#2a3f5f",
             "gridcolor": "white",
             "linecolor": "white",
             "minorgridcolor": "white",
             "startlinecolor": "#2a3f5f"
            },
            "type": "carpet"
           }
          ],
          "choropleth": [
           {
            "colorbar": {
             "outlinewidth": 0,
             "ticks": ""
            },
            "type": "choropleth"
           }
          ],
          "contour": [
           {
            "colorbar": {
             "outlinewidth": 0,
             "ticks": ""
            },
            "colorscale": [
             [
              0,
              "#0d0887"
             ],
             [
              0.1111111111111111,
              "#46039f"
             ],
             [
              0.2222222222222222,
              "#7201a8"
             ],
             [
              0.3333333333333333,
              "#9c179e"
             ],
             [
              0.4444444444444444,
              "#bd3786"
             ],
             [
              0.5555555555555556,
              "#d8576b"
             ],
             [
              0.6666666666666666,
              "#ed7953"
             ],
             [
              0.7777777777777778,
              "#fb9f3a"
             ],
             [
              0.8888888888888888,
              "#fdca26"
             ],
             [
              1,
              "#f0f921"
             ]
            ],
            "type": "contour"
           }
          ],
          "contourcarpet": [
           {
            "colorbar": {
             "outlinewidth": 0,
             "ticks": ""
            },
            "type": "contourcarpet"
           }
          ],
          "heatmap": [
           {
            "colorbar": {
             "outlinewidth": 0,
             "ticks": ""
            },
            "colorscale": [
             [
              0,
              "#0d0887"
             ],
             [
              0.1111111111111111,
              "#46039f"
             ],
             [
              0.2222222222222222,
              "#7201a8"
             ],
             [
              0.3333333333333333,
              "#9c179e"
             ],
             [
              0.4444444444444444,
              "#bd3786"
             ],
             [
              0.5555555555555556,
              "#d8576b"
             ],
             [
              0.6666666666666666,
              "#ed7953"
             ],
             [
              0.7777777777777778,
              "#fb9f3a"
             ],
             [
              0.8888888888888888,
              "#fdca26"
             ],
             [
              1,
              "#f0f921"
             ]
            ],
            "type": "heatmap"
           }
          ],
          "heatmapgl": [
           {
            "colorbar": {
             "outlinewidth": 0,
             "ticks": ""
            },
            "colorscale": [
             [
              0,
              "#0d0887"
             ],
             [
              0.1111111111111111,
              "#46039f"
             ],
             [
              0.2222222222222222,
              "#7201a8"
             ],
             [
              0.3333333333333333,
              "#9c179e"
             ],
             [
              0.4444444444444444,
              "#bd3786"
             ],
             [
              0.5555555555555556,
              "#d8576b"
             ],
             [
              0.6666666666666666,
              "#ed7953"
             ],
             [
              0.7777777777777778,
              "#fb9f3a"
             ],
             [
              0.8888888888888888,
              "#fdca26"
             ],
             [
              1,
              "#f0f921"
             ]
            ],
            "type": "heatmapgl"
           }
          ],
          "histogram": [
           {
            "marker": {
             "pattern": {
              "fillmode": "overlay",
              "size": 10,
              "solidity": 0.2
             }
            },
            "type": "histogram"
           }
          ],
          "histogram2d": [
           {
            "colorbar": {
             "outlinewidth": 0,
             "ticks": ""
            },
            "colorscale": [
             [
              0,
              "#0d0887"
             ],
             [
              0.1111111111111111,
              "#46039f"
             ],
             [
              0.2222222222222222,
              "#7201a8"
             ],
             [
              0.3333333333333333,
              "#9c179e"
             ],
             [
              0.4444444444444444,
              "#bd3786"
             ],
             [
              0.5555555555555556,
              "#d8576b"
             ],
             [
              0.6666666666666666,
              "#ed7953"
             ],
             [
              0.7777777777777778,
              "#fb9f3a"
             ],
             [
              0.8888888888888888,
              "#fdca26"
             ],
             [
              1,
              "#f0f921"
             ]
            ],
            "type": "histogram2d"
           }
          ],
          "histogram2dcontour": [
           {
            "colorbar": {
             "outlinewidth": 0,
             "ticks": ""
            },
            "colorscale": [
             [
              0,
              "#0d0887"
             ],
             [
              0.1111111111111111,
              "#46039f"
             ],
             [
              0.2222222222222222,
              "#7201a8"
             ],
             [
              0.3333333333333333,
              "#9c179e"
             ],
             [
              0.4444444444444444,
              "#bd3786"
             ],
             [
              0.5555555555555556,
              "#d8576b"
             ],
             [
              0.6666666666666666,
              "#ed7953"
             ],
             [
              0.7777777777777778,
              "#fb9f3a"
             ],
             [
              0.8888888888888888,
              "#fdca26"
             ],
             [
              1,
              "#f0f921"
             ]
            ],
            "type": "histogram2dcontour"
           }
          ],
          "mesh3d": [
           {
            "colorbar": {
             "outlinewidth": 0,
             "ticks": ""
            },
            "type": "mesh3d"
           }
          ],
          "parcoords": [
           {
            "line": {
             "colorbar": {
              "outlinewidth": 0,
              "ticks": ""
             }
            },
            "type": "parcoords"
           }
          ],
          "pie": [
           {
            "automargin": true,
            "type": "pie"
           }
          ],
          "scatter": [
           {
            "fillpattern": {
             "fillmode": "overlay",
             "size": 10,
             "solidity": 0.2
            },
            "type": "scatter"
           }
          ],
          "scatter3d": [
           {
            "line": {
             "colorbar": {
              "outlinewidth": 0,
              "ticks": ""
             }
            },
            "marker": {
             "colorbar": {
              "outlinewidth": 0,
              "ticks": ""
             }
            },
            "type": "scatter3d"
           }
          ],
          "scattercarpet": [
           {
            "marker": {
             "colorbar": {
              "outlinewidth": 0,
              "ticks": ""
             }
            },
            "type": "scattercarpet"
           }
          ],
          "scattergeo": [
           {
            "marker": {
             "colorbar": {
              "outlinewidth": 0,
              "ticks": ""
             }
            },
            "type": "scattergeo"
           }
          ],
          "scattergl": [
           {
            "marker": {
             "colorbar": {
              "outlinewidth": 0,
              "ticks": ""
             }
            },
            "type": "scattergl"
           }
          ],
          "scattermapbox": [
           {
            "marker": {
             "colorbar": {
              "outlinewidth": 0,
              "ticks": ""
             }
            },
            "type": "scattermapbox"
           }
          ],
          "scatterpolar": [
           {
            "marker": {
             "colorbar": {
              "outlinewidth": 0,
              "ticks": ""
             }
            },
            "type": "scatterpolar"
           }
          ],
          "scatterpolargl": [
           {
            "marker": {
             "colorbar": {
              "outlinewidth": 0,
              "ticks": ""
             }
            },
            "type": "scatterpolargl"
           }
          ],
          "scatterternary": [
           {
            "marker": {
             "colorbar": {
              "outlinewidth": 0,
              "ticks": ""
             }
            },
            "type": "scatterternary"
           }
          ],
          "surface": [
           {
            "colorbar": {
             "outlinewidth": 0,
             "ticks": ""
            },
            "colorscale": [
             [
              0,
              "#0d0887"
             ],
             [
              0.1111111111111111,
              "#46039f"
             ],
             [
              0.2222222222222222,
              "#7201a8"
             ],
             [
              0.3333333333333333,
              "#9c179e"
             ],
             [
              0.4444444444444444,
              "#bd3786"
             ],
             [
              0.5555555555555556,
              "#d8576b"
             ],
             [
              0.6666666666666666,
              "#ed7953"
             ],
             [
              0.7777777777777778,
              "#fb9f3a"
             ],
             [
              0.8888888888888888,
              "#fdca26"
             ],
             [
              1,
              "#f0f921"
             ]
            ],
            "type": "surface"
           }
          ],
          "table": [
           {
            "cells": {
             "fill": {
              "color": "#EBF0F8"
             },
             "line": {
              "color": "white"
             }
            },
            "header": {
             "fill": {
              "color": "#C8D4E3"
             },
             "line": {
              "color": "white"
             }
            },
            "type": "table"
           }
          ]
         },
         "layout": {
          "annotationdefaults": {
           "arrowcolor": "#2a3f5f",
           "arrowhead": 0,
           "arrowwidth": 1
          },
          "autotypenumbers": "strict",
          "coloraxis": {
           "colorbar": {
            "outlinewidth": 0,
            "ticks": ""
           }
          },
          "colorscale": {
           "diverging": [
            [
             0,
             "#8e0152"
            ],
            [
             0.1,
             "#c51b7d"
            ],
            [
             0.2,
             "#de77ae"
            ],
            [
             0.3,
             "#f1b6da"
            ],
            [
             0.4,
             "#fde0ef"
            ],
            [
             0.5,
             "#f7f7f7"
            ],
            [
             0.6,
             "#e6f5d0"
            ],
            [
             0.7,
             "#b8e186"
            ],
            [
             0.8,
             "#7fbc41"
            ],
            [
             0.9,
             "#4d9221"
            ],
            [
             1,
             "#276419"
            ]
           ],
           "sequential": [
            [
             0,
             "#0d0887"
            ],
            [
             0.1111111111111111,
             "#46039f"
            ],
            [
             0.2222222222222222,
             "#7201a8"
            ],
            [
             0.3333333333333333,
             "#9c179e"
            ],
            [
             0.4444444444444444,
             "#bd3786"
            ],
            [
             0.5555555555555556,
             "#d8576b"
            ],
            [
             0.6666666666666666,
             "#ed7953"
            ],
            [
             0.7777777777777778,
             "#fb9f3a"
            ],
            [
             0.8888888888888888,
             "#fdca26"
            ],
            [
             1,
             "#f0f921"
            ]
           ],
           "sequentialminus": [
            [
             0,
             "#0d0887"
            ],
            [
             0.1111111111111111,
             "#46039f"
            ],
            [
             0.2222222222222222,
             "#7201a8"
            ],
            [
             0.3333333333333333,
             "#9c179e"
            ],
            [
             0.4444444444444444,
             "#bd3786"
            ],
            [
             0.5555555555555556,
             "#d8576b"
            ],
            [
             0.6666666666666666,
             "#ed7953"
            ],
            [
             0.7777777777777778,
             "#fb9f3a"
            ],
            [
             0.8888888888888888,
             "#fdca26"
            ],
            [
             1,
             "#f0f921"
            ]
           ]
          },
          "colorway": [
           "#636efa",
           "#EF553B",
           "#00cc96",
           "#ab63fa",
           "#FFA15A",
           "#19d3f3",
           "#FF6692",
           "#B6E880",
           "#FF97FF",
           "#FECB52"
          ],
          "font": {
           "color": "#2a3f5f"
          },
          "geo": {
           "bgcolor": "white",
           "lakecolor": "white",
           "landcolor": "#E5ECF6",
           "showlakes": true,
           "showland": true,
           "subunitcolor": "white"
          },
          "hoverlabel": {
           "align": "left"
          },
          "hovermode": "closest",
          "mapbox": {
           "style": "light"
          },
          "paper_bgcolor": "white",
          "plot_bgcolor": "#E5ECF6",
          "polar": {
           "angularaxis": {
            "gridcolor": "white",
            "linecolor": "white",
            "ticks": ""
           },
           "bgcolor": "#E5ECF6",
           "radialaxis": {
            "gridcolor": "white",
            "linecolor": "white",
            "ticks": ""
           }
          },
          "scene": {
           "xaxis": {
            "backgroundcolor": "#E5ECF6",
            "gridcolor": "white",
            "gridwidth": 2,
            "linecolor": "white",
            "showbackground": true,
            "ticks": "",
            "zerolinecolor": "white"
           },
           "yaxis": {
            "backgroundcolor": "#E5ECF6",
            "gridcolor": "white",
            "gridwidth": 2,
            "linecolor": "white",
            "showbackground": true,
            "ticks": "",
            "zerolinecolor": "white"
           },
           "zaxis": {
            "backgroundcolor": "#E5ECF6",
            "gridcolor": "white",
            "gridwidth": 2,
            "linecolor": "white",
            "showbackground": true,
            "ticks": "",
            "zerolinecolor": "white"
           }
          },
          "shapedefaults": {
           "line": {
            "color": "#2a3f5f"
           }
          },
          "ternary": {
           "aaxis": {
            "gridcolor": "white",
            "linecolor": "white",
            "ticks": ""
           },
           "baxis": {
            "gridcolor": "white",
            "linecolor": "white",
            "ticks": ""
           },
           "bgcolor": "#E5ECF6",
           "caxis": {
            "gridcolor": "white",
            "linecolor": "white",
            "ticks": ""
           }
          },
          "title": {
           "x": 0.05
          },
          "xaxis": {
           "automargin": true,
           "gridcolor": "white",
           "linecolor": "white",
           "ticks": "",
           "title": {
            "standoff": 15
           },
           "zerolinecolor": "white",
           "zerolinewidth": 2
          },
          "yaxis": {
           "automargin": true,
           "gridcolor": "white",
           "linecolor": "white",
           "ticks": "",
           "title": {
            "standoff": 15
           },
           "zerolinecolor": "white",
           "zerolinewidth": 2
          }
         }
        },
        "width": 400
       }
      }
     },
     "metadata": {},
     "output_type": "display_data"
    }
   ],
   "source": [
    "cant_pacientes = len(df1.drop_duplicates())\n",
    "\n",
    "# Create a figure with an indicator (single number)\n",
    "fig = go.Figure(go.Indicator(\n",
    "    mode=\"number\",  # Only 'number' is allowed here\n",
    "    value= cant_pacientes,  # The number to display (you can replace this with a dynamic value)\n",
    "    number={'font': {'size': 100, 'color': 'purple'}},  # Customize the number font\n",
    "    title={'text': \"Pacientes Activas\", 'font': {'size': 30, 'color': 'grey'}},  # Customize the title (label)\n",
    "    domain={'x': [0, 1], 'y': [0, 1]}  # Define the space it should occupy\n",
    "))\n",
    "\n",
    "# Update the layout to add margins and control the card size\n",
    "fig.update_layout(\n",
    "    margin=dict(l=50, r=50, t=50, b=50),  # Control the margins\n",
    "    height=300,  # Control the height of the card\n",
    "    width=400,  # Control the width of the card\n",
    "    paper_bgcolor=\"white\"  # Set background color to white to match the card style\n",
    ")\n",
    "\n",
    "# Show the card\n",
    "fig.show()\n",
    "\n",
    "fig3_path = os.path.join(folder_name, \"Pacientes_Totales.png\")\n",
    "pio.write_image(fig, fig3_path)\n"
   ]
  },
  {
   "cell_type": "code",
   "execution_count": 14,
   "metadata": {},
   "outputs": [
    {
     "data": {
      "text/html": [
       "<div>\n",
       "<style scoped>\n",
       "    .dataframe tbody tr th:only-of-type {\n",
       "        vertical-align: middle;\n",
       "    }\n",
       "\n",
       "    .dataframe tbody tr th {\n",
       "        vertical-align: top;\n",
       "    }\n",
       "\n",
       "    .dataframe thead th {\n",
       "        text-align: right;\n",
       "    }\n",
       "</style>\n",
       "<table border=\"1\" class=\"dataframe\">\n",
       "  <thead>\n",
       "    <tr style=\"text-align: right;\">\n",
       "      <th></th>\n",
       "      <th>Carmen Treviño</th>\n",
       "      <th>Miriam Prieto</th>\n",
       "    </tr>\n",
       "  </thead>\n",
       "  <tbody>\n",
       "    <tr>\n",
       "      <th>0</th>\n",
       "      <td>13</td>\n",
       "      <td>4</td>\n",
       "    </tr>\n",
       "  </tbody>\n",
       "</table>\n",
       "</div>"
      ],
      "text/plain": [
       "   Carmen Treviño  Miriam Prieto\n",
       "0              13              4"
      ]
     },
     "execution_count": 14,
     "metadata": {},
     "output_type": "execute_result"
    }
   ],
   "source": [
    "noms_psics = df4['Psicóloga Asignada'].unique().tolist()\n",
    "sesiones_psic_1 = len(df4[(df4['Psicóloga Asignada'] == noms_psics[0]) & (df4['Asistió Paciente'] == 'Si')])\n",
    "sesiones_psic_2 = len(df4[(df4['Psicóloga Asignada'] == noms_psics[1]) & (df4['Asistió Paciente'] == 'Si')])\n",
    "df_sesiones_por_psic = pd.DataFrame({noms_psics[0]:[sesiones_psic_1], noms_psics[1]:[sesiones_psic_2]})\n",
    "df_sesiones_por_psic"
   ]
  },
  {
   "cell_type": "code",
   "execution_count": 15,
   "metadata": {},
   "outputs": [
    {
     "data": {
      "application/vnd.plotly.v1+json": {
       "config": {
        "plotlyServerURL": "https://plot.ly"
       },
       "data": [
        {
         "marker": {
          "color": "#AFE7FF"
         },
         "name": "Carmen Treviño",
         "text": [
          13
         ],
         "textposition": "inside",
         "type": "bar",
         "x": [
          "Carmen Treviño"
         ],
         "y": [
          13
         ]
        },
        {
         "marker": {
          "color": "#AFE7FF"
         },
         "name": "Miriam Prieto",
         "text": [
          4
         ],
         "textposition": "inside",
         "type": "bar",
         "x": [
          "Miriam Prieto"
         ],
         "y": [
          4
         ]
        }
       ],
       "layout": {
        "barmode": "group",
        "height": 400,
        "paper_bgcolor": "rgba(255, 255, 255, 1)",
        "plot_bgcolor": "rgba(250, 250, 250, 1)",
        "showlegend": false,
        "template": {
         "data": {
          "bar": [
           {
            "error_x": {
             "color": "#2a3f5f"
            },
            "error_y": {
             "color": "#2a3f5f"
            },
            "marker": {
             "line": {
              "color": "#E5ECF6",
              "width": 0.5
             },
             "pattern": {
              "fillmode": "overlay",
              "size": 10,
              "solidity": 0.2
             }
            },
            "type": "bar"
           }
          ],
          "barpolar": [
           {
            "marker": {
             "line": {
              "color": "#E5ECF6",
              "width": 0.5
             },
             "pattern": {
              "fillmode": "overlay",
              "size": 10,
              "solidity": 0.2
             }
            },
            "type": "barpolar"
           }
          ],
          "carpet": [
           {
            "aaxis": {
             "endlinecolor": "#2a3f5f",
             "gridcolor": "white",
             "linecolor": "white",
             "minorgridcolor": "white",
             "startlinecolor": "#2a3f5f"
            },
            "baxis": {
             "endlinecolor": "#2a3f5f",
             "gridcolor": "white",
             "linecolor": "white",
             "minorgridcolor": "white",
             "startlinecolor": "#2a3f5f"
            },
            "type": "carpet"
           }
          ],
          "choropleth": [
           {
            "colorbar": {
             "outlinewidth": 0,
             "ticks": ""
            },
            "type": "choropleth"
           }
          ],
          "contour": [
           {
            "colorbar": {
             "outlinewidth": 0,
             "ticks": ""
            },
            "colorscale": [
             [
              0,
              "#0d0887"
             ],
             [
              0.1111111111111111,
              "#46039f"
             ],
             [
              0.2222222222222222,
              "#7201a8"
             ],
             [
              0.3333333333333333,
              "#9c179e"
             ],
             [
              0.4444444444444444,
              "#bd3786"
             ],
             [
              0.5555555555555556,
              "#d8576b"
             ],
             [
              0.6666666666666666,
              "#ed7953"
             ],
             [
              0.7777777777777778,
              "#fb9f3a"
             ],
             [
              0.8888888888888888,
              "#fdca26"
             ],
             [
              1,
              "#f0f921"
             ]
            ],
            "type": "contour"
           }
          ],
          "contourcarpet": [
           {
            "colorbar": {
             "outlinewidth": 0,
             "ticks": ""
            },
            "type": "contourcarpet"
           }
          ],
          "heatmap": [
           {
            "colorbar": {
             "outlinewidth": 0,
             "ticks": ""
            },
            "colorscale": [
             [
              0,
              "#0d0887"
             ],
             [
              0.1111111111111111,
              "#46039f"
             ],
             [
              0.2222222222222222,
              "#7201a8"
             ],
             [
              0.3333333333333333,
              "#9c179e"
             ],
             [
              0.4444444444444444,
              "#bd3786"
             ],
             [
              0.5555555555555556,
              "#d8576b"
             ],
             [
              0.6666666666666666,
              "#ed7953"
             ],
             [
              0.7777777777777778,
              "#fb9f3a"
             ],
             [
              0.8888888888888888,
              "#fdca26"
             ],
             [
              1,
              "#f0f921"
             ]
            ],
            "type": "heatmap"
           }
          ],
          "heatmapgl": [
           {
            "colorbar": {
             "outlinewidth": 0,
             "ticks": ""
            },
            "colorscale": [
             [
              0,
              "#0d0887"
             ],
             [
              0.1111111111111111,
              "#46039f"
             ],
             [
              0.2222222222222222,
              "#7201a8"
             ],
             [
              0.3333333333333333,
              "#9c179e"
             ],
             [
              0.4444444444444444,
              "#bd3786"
             ],
             [
              0.5555555555555556,
              "#d8576b"
             ],
             [
              0.6666666666666666,
              "#ed7953"
             ],
             [
              0.7777777777777778,
              "#fb9f3a"
             ],
             [
              0.8888888888888888,
              "#fdca26"
             ],
             [
              1,
              "#f0f921"
             ]
            ],
            "type": "heatmapgl"
           }
          ],
          "histogram": [
           {
            "marker": {
             "pattern": {
              "fillmode": "overlay",
              "size": 10,
              "solidity": 0.2
             }
            },
            "type": "histogram"
           }
          ],
          "histogram2d": [
           {
            "colorbar": {
             "outlinewidth": 0,
             "ticks": ""
            },
            "colorscale": [
             [
              0,
              "#0d0887"
             ],
             [
              0.1111111111111111,
              "#46039f"
             ],
             [
              0.2222222222222222,
              "#7201a8"
             ],
             [
              0.3333333333333333,
              "#9c179e"
             ],
             [
              0.4444444444444444,
              "#bd3786"
             ],
             [
              0.5555555555555556,
              "#d8576b"
             ],
             [
              0.6666666666666666,
              "#ed7953"
             ],
             [
              0.7777777777777778,
              "#fb9f3a"
             ],
             [
              0.8888888888888888,
              "#fdca26"
             ],
             [
              1,
              "#f0f921"
             ]
            ],
            "type": "histogram2d"
           }
          ],
          "histogram2dcontour": [
           {
            "colorbar": {
             "outlinewidth": 0,
             "ticks": ""
            },
            "colorscale": [
             [
              0,
              "#0d0887"
             ],
             [
              0.1111111111111111,
              "#46039f"
             ],
             [
              0.2222222222222222,
              "#7201a8"
             ],
             [
              0.3333333333333333,
              "#9c179e"
             ],
             [
              0.4444444444444444,
              "#bd3786"
             ],
             [
              0.5555555555555556,
              "#d8576b"
             ],
             [
              0.6666666666666666,
              "#ed7953"
             ],
             [
              0.7777777777777778,
              "#fb9f3a"
             ],
             [
              0.8888888888888888,
              "#fdca26"
             ],
             [
              1,
              "#f0f921"
             ]
            ],
            "type": "histogram2dcontour"
           }
          ],
          "mesh3d": [
           {
            "colorbar": {
             "outlinewidth": 0,
             "ticks": ""
            },
            "type": "mesh3d"
           }
          ],
          "parcoords": [
           {
            "line": {
             "colorbar": {
              "outlinewidth": 0,
              "ticks": ""
             }
            },
            "type": "parcoords"
           }
          ],
          "pie": [
           {
            "automargin": true,
            "type": "pie"
           }
          ],
          "scatter": [
           {
            "fillpattern": {
             "fillmode": "overlay",
             "size": 10,
             "solidity": 0.2
            },
            "type": "scatter"
           }
          ],
          "scatter3d": [
           {
            "line": {
             "colorbar": {
              "outlinewidth": 0,
              "ticks": ""
             }
            },
            "marker": {
             "colorbar": {
              "outlinewidth": 0,
              "ticks": ""
             }
            },
            "type": "scatter3d"
           }
          ],
          "scattercarpet": [
           {
            "marker": {
             "colorbar": {
              "outlinewidth": 0,
              "ticks": ""
             }
            },
            "type": "scattercarpet"
           }
          ],
          "scattergeo": [
           {
            "marker": {
             "colorbar": {
              "outlinewidth": 0,
              "ticks": ""
             }
            },
            "type": "scattergeo"
           }
          ],
          "scattergl": [
           {
            "marker": {
             "colorbar": {
              "outlinewidth": 0,
              "ticks": ""
             }
            },
            "type": "scattergl"
           }
          ],
          "scattermapbox": [
           {
            "marker": {
             "colorbar": {
              "outlinewidth": 0,
              "ticks": ""
             }
            },
            "type": "scattermapbox"
           }
          ],
          "scatterpolar": [
           {
            "marker": {
             "colorbar": {
              "outlinewidth": 0,
              "ticks": ""
             }
            },
            "type": "scatterpolar"
           }
          ],
          "scatterpolargl": [
           {
            "marker": {
             "colorbar": {
              "outlinewidth": 0,
              "ticks": ""
             }
            },
            "type": "scatterpolargl"
           }
          ],
          "scatterternary": [
           {
            "marker": {
             "colorbar": {
              "outlinewidth": 0,
              "ticks": ""
             }
            },
            "type": "scatterternary"
           }
          ],
          "surface": [
           {
            "colorbar": {
             "outlinewidth": 0,
             "ticks": ""
            },
            "colorscale": [
             [
              0,
              "#0d0887"
             ],
             [
              0.1111111111111111,
              "#46039f"
             ],
             [
              0.2222222222222222,
              "#7201a8"
             ],
             [
              0.3333333333333333,
              "#9c179e"
             ],
             [
              0.4444444444444444,
              "#bd3786"
             ],
             [
              0.5555555555555556,
              "#d8576b"
             ],
             [
              0.6666666666666666,
              "#ed7953"
             ],
             [
              0.7777777777777778,
              "#fb9f3a"
             ],
             [
              0.8888888888888888,
              "#fdca26"
             ],
             [
              1,
              "#f0f921"
             ]
            ],
            "type": "surface"
           }
          ],
          "table": [
           {
            "cells": {
             "fill": {
              "color": "#EBF0F8"
             },
             "line": {
              "color": "white"
             }
            },
            "header": {
             "fill": {
              "color": "#C8D4E3"
             },
             "line": {
              "color": "white"
             }
            },
            "type": "table"
           }
          ]
         },
         "layout": {
          "annotationdefaults": {
           "arrowcolor": "#2a3f5f",
           "arrowhead": 0,
           "arrowwidth": 1
          },
          "autotypenumbers": "strict",
          "coloraxis": {
           "colorbar": {
            "outlinewidth": 0,
            "ticks": ""
           }
          },
          "colorscale": {
           "diverging": [
            [
             0,
             "#8e0152"
            ],
            [
             0.1,
             "#c51b7d"
            ],
            [
             0.2,
             "#de77ae"
            ],
            [
             0.3,
             "#f1b6da"
            ],
            [
             0.4,
             "#fde0ef"
            ],
            [
             0.5,
             "#f7f7f7"
            ],
            [
             0.6,
             "#e6f5d0"
            ],
            [
             0.7,
             "#b8e186"
            ],
            [
             0.8,
             "#7fbc41"
            ],
            [
             0.9,
             "#4d9221"
            ],
            [
             1,
             "#276419"
            ]
           ],
           "sequential": [
            [
             0,
             "#0d0887"
            ],
            [
             0.1111111111111111,
             "#46039f"
            ],
            [
             0.2222222222222222,
             "#7201a8"
            ],
            [
             0.3333333333333333,
             "#9c179e"
            ],
            [
             0.4444444444444444,
             "#bd3786"
            ],
            [
             0.5555555555555556,
             "#d8576b"
            ],
            [
             0.6666666666666666,
             "#ed7953"
            ],
            [
             0.7777777777777778,
             "#fb9f3a"
            ],
            [
             0.8888888888888888,
             "#fdca26"
            ],
            [
             1,
             "#f0f921"
            ]
           ],
           "sequentialminus": [
            [
             0,
             "#0d0887"
            ],
            [
             0.1111111111111111,
             "#46039f"
            ],
            [
             0.2222222222222222,
             "#7201a8"
            ],
            [
             0.3333333333333333,
             "#9c179e"
            ],
            [
             0.4444444444444444,
             "#bd3786"
            ],
            [
             0.5555555555555556,
             "#d8576b"
            ],
            [
             0.6666666666666666,
             "#ed7953"
            ],
            [
             0.7777777777777778,
             "#fb9f3a"
            ],
            [
             0.8888888888888888,
             "#fdca26"
            ],
            [
             1,
             "#f0f921"
            ]
           ]
          },
          "colorway": [
           "#636efa",
           "#EF553B",
           "#00cc96",
           "#ab63fa",
           "#FFA15A",
           "#19d3f3",
           "#FF6692",
           "#B6E880",
           "#FF97FF",
           "#FECB52"
          ],
          "font": {
           "color": "#2a3f5f"
          },
          "geo": {
           "bgcolor": "white",
           "lakecolor": "white",
           "landcolor": "#E5ECF6",
           "showlakes": true,
           "showland": true,
           "subunitcolor": "white"
          },
          "hoverlabel": {
           "align": "left"
          },
          "hovermode": "closest",
          "mapbox": {
           "style": "light"
          },
          "paper_bgcolor": "white",
          "plot_bgcolor": "#E5ECF6",
          "polar": {
           "angularaxis": {
            "gridcolor": "white",
            "linecolor": "white",
            "ticks": ""
           },
           "bgcolor": "#E5ECF6",
           "radialaxis": {
            "gridcolor": "white",
            "linecolor": "white",
            "ticks": ""
           }
          },
          "scene": {
           "xaxis": {
            "backgroundcolor": "#E5ECF6",
            "gridcolor": "white",
            "gridwidth": 2,
            "linecolor": "white",
            "showbackground": true,
            "ticks": "",
            "zerolinecolor": "white"
           },
           "yaxis": {
            "backgroundcolor": "#E5ECF6",
            "gridcolor": "white",
            "gridwidth": 2,
            "linecolor": "white",
            "showbackground": true,
            "ticks": "",
            "zerolinecolor": "white"
           },
           "zaxis": {
            "backgroundcolor": "#E5ECF6",
            "gridcolor": "white",
            "gridwidth": 2,
            "linecolor": "white",
            "showbackground": true,
            "ticks": "",
            "zerolinecolor": "white"
           }
          },
          "shapedefaults": {
           "line": {
            "color": "#2a3f5f"
           }
          },
          "ternary": {
           "aaxis": {
            "gridcolor": "white",
            "linecolor": "white",
            "ticks": ""
           },
           "baxis": {
            "gridcolor": "white",
            "linecolor": "white",
            "ticks": ""
           },
           "bgcolor": "#E5ECF6",
           "caxis": {
            "gridcolor": "white",
            "linecolor": "white",
            "ticks": ""
           }
          },
          "title": {
           "x": 0.05
          },
          "xaxis": {
           "automargin": true,
           "gridcolor": "white",
           "linecolor": "white",
           "ticks": "",
           "title": {
            "standoff": 15
           },
           "zerolinecolor": "white",
           "zerolinewidth": 2
          },
          "yaxis": {
           "automargin": true,
           "gridcolor": "white",
           "linecolor": "white",
           "ticks": "",
           "title": {
            "standoff": 15
           },
           "zerolinecolor": "white",
           "zerolinewidth": 2
          }
         }
        },
        "title": {
         "text": "Sesiones por Psicóloga",
         "x": 0.5
        },
        "width": 600,
        "xaxis": {
         "title": {
          "text": "Psicólogas"
         }
        },
        "yaxis": {
         "title": {
          "text": "Número de Sesiones"
         }
        }
       }
      }
     },
     "metadata": {},
     "output_type": "display_data"
    }
   ],
   "source": [
    "# Create a vertical bar chart with customization\n",
    "fig = go.Figure()\n",
    "\n",
    "# Add bars for each psychologist with custom colors\n",
    "fig.add_trace(go.Bar(name='Carmen Treviño', \n",
    "                     x=['Carmen Treviño'], \n",
    "                     y=df_sesiones_por_psic['Carmen Treviño'], \n",
    "                     marker_color='#AFE7FF',  # Custom color for the first bar\n",
    "                     text=df_sesiones_por_psic['Carmen Treviño'],  # Display the value above the bar\n",
    "                     textposition='inside'))  # Position the text above the bar\n",
    "\n",
    "fig.add_trace(go.Bar(name='Miriam Prieto', \n",
    "                     x=['Miriam Prieto'], \n",
    "                     y=df_sesiones_por_psic['Miriam Prieto'], \n",
    "                     marker_color='#AFE7FF',  # Custom color for the second bar\n",
    "                     text=df_sesiones_por_psic['Miriam Prieto'],  # Display the value above the bar\n",
    "                     textposition='inside'))  # Position the text above the bar\n",
    "\n",
    "# Update layout for chart size, title, and background color\n",
    "fig.update_layout(\n",
    "    title='Sesiones por Psicóloga',\n",
    "    title_x=0.5,  # Center the title\n",
    "    xaxis_title='Psicólogas',\n",
    "    yaxis_title='Número de Sesiones',\n",
    "    barmode='group',\n",
    "    plot_bgcolor='rgba(250, 250, 250, 1)',  # Custom plot background color\n",
    "    paper_bgcolor='rgba(255, 255, 255, 1)',  # Custom outer background color\n",
    "    width=600,  # Adjust the chart width to make it less wide\n",
    "    height=400,  # Adjust the chart height\n",
    "    showlegend=False\n",
    ")\n",
    "\n",
    "# Show the figure\n",
    "fig.show()\n",
    "\n",
    "fig4_path = os.path.join(folder_name, \"Cant_Sesiones.png\")\n",
    "pio.write_image(fig, fig4_path)"
   ]
  },
  {
   "cell_type": "code",
   "execution_count": 16,
   "metadata": {},
   "outputs": [
    {
     "data": {
      "text/html": [
       "<div>\n",
       "<style scoped>\n",
       "    .dataframe tbody tr th:only-of-type {\n",
       "        vertical-align: middle;\n",
       "    }\n",
       "\n",
       "    .dataframe tbody tr th {\n",
       "        vertical-align: top;\n",
       "    }\n",
       "\n",
       "    .dataframe thead th {\n",
       "        text-align: right;\n",
       "    }\n",
       "</style>\n",
       "<table border=\"1\" class=\"dataframe\">\n",
       "  <thead>\n",
       "    <tr style=\"text-align: right;\">\n",
       "      <th></th>\n",
       "      <th>Folio del Paciente</th>\n",
       "      <th>Número de sesión</th>\n",
       "    </tr>\n",
       "  </thead>\n",
       "  <tbody>\n",
       "    <tr>\n",
       "      <th>7</th>\n",
       "      <td>24033422</td>\n",
       "      <td>3</td>\n",
       "    </tr>\n",
       "    <tr>\n",
       "      <th>8</th>\n",
       "      <td>24000519</td>\n",
       "      <td>20</td>\n",
       "    </tr>\n",
       "    <tr>\n",
       "      <th>9</th>\n",
       "      <td>4081</td>\n",
       "      <td>26</td>\n",
       "    </tr>\n",
       "    <tr>\n",
       "      <th>10</th>\n",
       "      <td>3944</td>\n",
       "      <td>12</td>\n",
       "    </tr>\n",
       "    <tr>\n",
       "      <th>13</th>\n",
       "      <td>24000493</td>\n",
       "      <td>11</td>\n",
       "    </tr>\n",
       "    <tr>\n",
       "      <th>14</th>\n",
       "      <td>3691</td>\n",
       "      <td>9</td>\n",
       "    </tr>\n",
       "    <tr>\n",
       "      <th>15</th>\n",
       "      <td>242023</td>\n",
       "      <td>12</td>\n",
       "    </tr>\n",
       "    <tr>\n",
       "      <th>0</th>\n",
       "      <td>24000048</td>\n",
       "      <td>20</td>\n",
       "    </tr>\n",
       "    <tr>\n",
       "      <th>2</th>\n",
       "      <td>20036784</td>\n",
       "      <td>37</td>\n",
       "    </tr>\n",
       "    <tr>\n",
       "      <th>3</th>\n",
       "      <td>240338</td>\n",
       "      <td>22</td>\n",
       "    </tr>\n",
       "  </tbody>\n",
       "</table>\n",
       "</div>"
      ],
      "text/plain": [
       "    Folio del Paciente  Número de sesión\n",
       "7             24033422                 3\n",
       "8             24000519                20\n",
       "9                 4081                26\n",
       "10                3944                12\n",
       "13            24000493                11\n",
       "14                3691                 9\n",
       "15              242023                12\n",
       "0             24000048                20\n",
       "2             20036784                37\n",
       "3               240338                22"
      ]
     },
     "execution_count": 16,
     "metadata": {},
     "output_type": "execute_result"
    }
   ],
   "source": [
    "df_ultima_sesion = df4.drop_duplicates(subset='Folio del Paciente', keep='last')\n",
    "df_cant_sesiones_recibidas = df_ultima_sesion[['Folio del Paciente', 'Número de sesión']]\n",
    "df_cant_sesiones_recibidas"
   ]
  },
  {
   "cell_type": "code",
   "execution_count": 18,
   "metadata": {},
   "outputs": [
    {
     "data": {
      "application/vnd.plotly.v1+json": {
       "config": {
        "plotlyServerURL": "https://plot.ly"
       },
       "data": [
        {
         "marker": {
          "color": "#FFC0FE",
          "line": {
           "color": "rgba(0, 0, 0, 1)",
           "width": 0
          }
         },
         "nbinsx": 5,
         "opacity": 0.5,
         "textfont": {
          "color": "black",
          "size": 14
         },
         "textposition": "inside",
         "texttemplate": "%{y}",
         "type": "histogram",
         "x": [
          3,
          20,
          26,
          12,
          11,
          9,
          12,
          20,
          37,
          22
         ]
        }
       ],
       "layout": {
        "bargap": 0.1,
        "height": 400,
        "margin": {
         "b": 50,
         "l": 50,
         "r": 50,
         "t": 50
        },
        "paper_bgcolor": "rgba(240, 240, 240, 1)",
        "plot_bgcolor": "rgba(245, 245, 245, 1)",
        "template": {
         "data": {
          "bar": [
           {
            "error_x": {
             "color": "#2a3f5f"
            },
            "error_y": {
             "color": "#2a3f5f"
            },
            "marker": {
             "line": {
              "color": "#E5ECF6",
              "width": 0.5
             },
             "pattern": {
              "fillmode": "overlay",
              "size": 10,
              "solidity": 0.2
             }
            },
            "type": "bar"
           }
          ],
          "barpolar": [
           {
            "marker": {
             "line": {
              "color": "#E5ECF6",
              "width": 0.5
             },
             "pattern": {
              "fillmode": "overlay",
              "size": 10,
              "solidity": 0.2
             }
            },
            "type": "barpolar"
           }
          ],
          "carpet": [
           {
            "aaxis": {
             "endlinecolor": "#2a3f5f",
             "gridcolor": "white",
             "linecolor": "white",
             "minorgridcolor": "white",
             "startlinecolor": "#2a3f5f"
            },
            "baxis": {
             "endlinecolor": "#2a3f5f",
             "gridcolor": "white",
             "linecolor": "white",
             "minorgridcolor": "white",
             "startlinecolor": "#2a3f5f"
            },
            "type": "carpet"
           }
          ],
          "choropleth": [
           {
            "colorbar": {
             "outlinewidth": 0,
             "ticks": ""
            },
            "type": "choropleth"
           }
          ],
          "contour": [
           {
            "colorbar": {
             "outlinewidth": 0,
             "ticks": ""
            },
            "colorscale": [
             [
              0,
              "#0d0887"
             ],
             [
              0.1111111111111111,
              "#46039f"
             ],
             [
              0.2222222222222222,
              "#7201a8"
             ],
             [
              0.3333333333333333,
              "#9c179e"
             ],
             [
              0.4444444444444444,
              "#bd3786"
             ],
             [
              0.5555555555555556,
              "#d8576b"
             ],
             [
              0.6666666666666666,
              "#ed7953"
             ],
             [
              0.7777777777777778,
              "#fb9f3a"
             ],
             [
              0.8888888888888888,
              "#fdca26"
             ],
             [
              1,
              "#f0f921"
             ]
            ],
            "type": "contour"
           }
          ],
          "contourcarpet": [
           {
            "colorbar": {
             "outlinewidth": 0,
             "ticks": ""
            },
            "type": "contourcarpet"
           }
          ],
          "heatmap": [
           {
            "colorbar": {
             "outlinewidth": 0,
             "ticks": ""
            },
            "colorscale": [
             [
              0,
              "#0d0887"
             ],
             [
              0.1111111111111111,
              "#46039f"
             ],
             [
              0.2222222222222222,
              "#7201a8"
             ],
             [
              0.3333333333333333,
              "#9c179e"
             ],
             [
              0.4444444444444444,
              "#bd3786"
             ],
             [
              0.5555555555555556,
              "#d8576b"
             ],
             [
              0.6666666666666666,
              "#ed7953"
             ],
             [
              0.7777777777777778,
              "#fb9f3a"
             ],
             [
              0.8888888888888888,
              "#fdca26"
             ],
             [
              1,
              "#f0f921"
             ]
            ],
            "type": "heatmap"
           }
          ],
          "heatmapgl": [
           {
            "colorbar": {
             "outlinewidth": 0,
             "ticks": ""
            },
            "colorscale": [
             [
              0,
              "#0d0887"
             ],
             [
              0.1111111111111111,
              "#46039f"
             ],
             [
              0.2222222222222222,
              "#7201a8"
             ],
             [
              0.3333333333333333,
              "#9c179e"
             ],
             [
              0.4444444444444444,
              "#bd3786"
             ],
             [
              0.5555555555555556,
              "#d8576b"
             ],
             [
              0.6666666666666666,
              "#ed7953"
             ],
             [
              0.7777777777777778,
              "#fb9f3a"
             ],
             [
              0.8888888888888888,
              "#fdca26"
             ],
             [
              1,
              "#f0f921"
             ]
            ],
            "type": "heatmapgl"
           }
          ],
          "histogram": [
           {
            "marker": {
             "pattern": {
              "fillmode": "overlay",
              "size": 10,
              "solidity": 0.2
             }
            },
            "type": "histogram"
           }
          ],
          "histogram2d": [
           {
            "colorbar": {
             "outlinewidth": 0,
             "ticks": ""
            },
            "colorscale": [
             [
              0,
              "#0d0887"
             ],
             [
              0.1111111111111111,
              "#46039f"
             ],
             [
              0.2222222222222222,
              "#7201a8"
             ],
             [
              0.3333333333333333,
              "#9c179e"
             ],
             [
              0.4444444444444444,
              "#bd3786"
             ],
             [
              0.5555555555555556,
              "#d8576b"
             ],
             [
              0.6666666666666666,
              "#ed7953"
             ],
             [
              0.7777777777777778,
              "#fb9f3a"
             ],
             [
              0.8888888888888888,
              "#fdca26"
             ],
             [
              1,
              "#f0f921"
             ]
            ],
            "type": "histogram2d"
           }
          ],
          "histogram2dcontour": [
           {
            "colorbar": {
             "outlinewidth": 0,
             "ticks": ""
            },
            "colorscale": [
             [
              0,
              "#0d0887"
             ],
             [
              0.1111111111111111,
              "#46039f"
             ],
             [
              0.2222222222222222,
              "#7201a8"
             ],
             [
              0.3333333333333333,
              "#9c179e"
             ],
             [
              0.4444444444444444,
              "#bd3786"
             ],
             [
              0.5555555555555556,
              "#d8576b"
             ],
             [
              0.6666666666666666,
              "#ed7953"
             ],
             [
              0.7777777777777778,
              "#fb9f3a"
             ],
             [
              0.8888888888888888,
              "#fdca26"
             ],
             [
              1,
              "#f0f921"
             ]
            ],
            "type": "histogram2dcontour"
           }
          ],
          "mesh3d": [
           {
            "colorbar": {
             "outlinewidth": 0,
             "ticks": ""
            },
            "type": "mesh3d"
           }
          ],
          "parcoords": [
           {
            "line": {
             "colorbar": {
              "outlinewidth": 0,
              "ticks": ""
             }
            },
            "type": "parcoords"
           }
          ],
          "pie": [
           {
            "automargin": true,
            "type": "pie"
           }
          ],
          "scatter": [
           {
            "fillpattern": {
             "fillmode": "overlay",
             "size": 10,
             "solidity": 0.2
            },
            "type": "scatter"
           }
          ],
          "scatter3d": [
           {
            "line": {
             "colorbar": {
              "outlinewidth": 0,
              "ticks": ""
             }
            },
            "marker": {
             "colorbar": {
              "outlinewidth": 0,
              "ticks": ""
             }
            },
            "type": "scatter3d"
           }
          ],
          "scattercarpet": [
           {
            "marker": {
             "colorbar": {
              "outlinewidth": 0,
              "ticks": ""
             }
            },
            "type": "scattercarpet"
           }
          ],
          "scattergeo": [
           {
            "marker": {
             "colorbar": {
              "outlinewidth": 0,
              "ticks": ""
             }
            },
            "type": "scattergeo"
           }
          ],
          "scattergl": [
           {
            "marker": {
             "colorbar": {
              "outlinewidth": 0,
              "ticks": ""
             }
            },
            "type": "scattergl"
           }
          ],
          "scattermapbox": [
           {
            "marker": {
             "colorbar": {
              "outlinewidth": 0,
              "ticks": ""
             }
            },
            "type": "scattermapbox"
           }
          ],
          "scatterpolar": [
           {
            "marker": {
             "colorbar": {
              "outlinewidth": 0,
              "ticks": ""
             }
            },
            "type": "scatterpolar"
           }
          ],
          "scatterpolargl": [
           {
            "marker": {
             "colorbar": {
              "outlinewidth": 0,
              "ticks": ""
             }
            },
            "type": "scatterpolargl"
           }
          ],
          "scatterternary": [
           {
            "marker": {
             "colorbar": {
              "outlinewidth": 0,
              "ticks": ""
             }
            },
            "type": "scatterternary"
           }
          ],
          "surface": [
           {
            "colorbar": {
             "outlinewidth": 0,
             "ticks": ""
            },
            "colorscale": [
             [
              0,
              "#0d0887"
             ],
             [
              0.1111111111111111,
              "#46039f"
             ],
             [
              0.2222222222222222,
              "#7201a8"
             ],
             [
              0.3333333333333333,
              "#9c179e"
             ],
             [
              0.4444444444444444,
              "#bd3786"
             ],
             [
              0.5555555555555556,
              "#d8576b"
             ],
             [
              0.6666666666666666,
              "#ed7953"
             ],
             [
              0.7777777777777778,
              "#fb9f3a"
             ],
             [
              0.8888888888888888,
              "#fdca26"
             ],
             [
              1,
              "#f0f921"
             ]
            ],
            "type": "surface"
           }
          ],
          "table": [
           {
            "cells": {
             "fill": {
              "color": "#EBF0F8"
             },
             "line": {
              "color": "white"
             }
            },
            "header": {
             "fill": {
              "color": "#C8D4E3"
             },
             "line": {
              "color": "white"
             }
            },
            "type": "table"
           }
          ]
         },
         "layout": {
          "annotationdefaults": {
           "arrowcolor": "#2a3f5f",
           "arrowhead": 0,
           "arrowwidth": 1
          },
          "autotypenumbers": "strict",
          "coloraxis": {
           "colorbar": {
            "outlinewidth": 0,
            "ticks": ""
           }
          },
          "colorscale": {
           "diverging": [
            [
             0,
             "#8e0152"
            ],
            [
             0.1,
             "#c51b7d"
            ],
            [
             0.2,
             "#de77ae"
            ],
            [
             0.3,
             "#f1b6da"
            ],
            [
             0.4,
             "#fde0ef"
            ],
            [
             0.5,
             "#f7f7f7"
            ],
            [
             0.6,
             "#e6f5d0"
            ],
            [
             0.7,
             "#b8e186"
            ],
            [
             0.8,
             "#7fbc41"
            ],
            [
             0.9,
             "#4d9221"
            ],
            [
             1,
             "#276419"
            ]
           ],
           "sequential": [
            [
             0,
             "#0d0887"
            ],
            [
             0.1111111111111111,
             "#46039f"
            ],
            [
             0.2222222222222222,
             "#7201a8"
            ],
            [
             0.3333333333333333,
             "#9c179e"
            ],
            [
             0.4444444444444444,
             "#bd3786"
            ],
            [
             0.5555555555555556,
             "#d8576b"
            ],
            [
             0.6666666666666666,
             "#ed7953"
            ],
            [
             0.7777777777777778,
             "#fb9f3a"
            ],
            [
             0.8888888888888888,
             "#fdca26"
            ],
            [
             1,
             "#f0f921"
            ]
           ],
           "sequentialminus": [
            [
             0,
             "#0d0887"
            ],
            [
             0.1111111111111111,
             "#46039f"
            ],
            [
             0.2222222222222222,
             "#7201a8"
            ],
            [
             0.3333333333333333,
             "#9c179e"
            ],
            [
             0.4444444444444444,
             "#bd3786"
            ],
            [
             0.5555555555555556,
             "#d8576b"
            ],
            [
             0.6666666666666666,
             "#ed7953"
            ],
            [
             0.7777777777777778,
             "#fb9f3a"
            ],
            [
             0.8888888888888888,
             "#fdca26"
            ],
            [
             1,
             "#f0f921"
            ]
           ]
          },
          "colorway": [
           "#636efa",
           "#EF553B",
           "#00cc96",
           "#ab63fa",
           "#FFA15A",
           "#19d3f3",
           "#FF6692",
           "#B6E880",
           "#FF97FF",
           "#FECB52"
          ],
          "font": {
           "color": "#2a3f5f"
          },
          "geo": {
           "bgcolor": "white",
           "lakecolor": "white",
           "landcolor": "#E5ECF6",
           "showlakes": true,
           "showland": true,
           "subunitcolor": "white"
          },
          "hoverlabel": {
           "align": "left"
          },
          "hovermode": "closest",
          "mapbox": {
           "style": "light"
          },
          "paper_bgcolor": "white",
          "plot_bgcolor": "#E5ECF6",
          "polar": {
           "angularaxis": {
            "gridcolor": "white",
            "linecolor": "white",
            "ticks": ""
           },
           "bgcolor": "#E5ECF6",
           "radialaxis": {
            "gridcolor": "white",
            "linecolor": "white",
            "ticks": ""
           }
          },
          "scene": {
           "xaxis": {
            "backgroundcolor": "#E5ECF6",
            "gridcolor": "white",
            "gridwidth": 2,
            "linecolor": "white",
            "showbackground": true,
            "ticks": "",
            "zerolinecolor": "white"
           },
           "yaxis": {
            "backgroundcolor": "#E5ECF6",
            "gridcolor": "white",
            "gridwidth": 2,
            "linecolor": "white",
            "showbackground": true,
            "ticks": "",
            "zerolinecolor": "white"
           },
           "zaxis": {
            "backgroundcolor": "#E5ECF6",
            "gridcolor": "white",
            "gridwidth": 2,
            "linecolor": "white",
            "showbackground": true,
            "ticks": "",
            "zerolinecolor": "white"
           }
          },
          "shapedefaults": {
           "line": {
            "color": "#2a3f5f"
           }
          },
          "ternary": {
           "aaxis": {
            "gridcolor": "white",
            "linecolor": "white",
            "ticks": ""
           },
           "baxis": {
            "gridcolor": "white",
            "linecolor": "white",
            "ticks": ""
           },
           "bgcolor": "#E5ECF6",
           "caxis": {
            "gridcolor": "white",
            "linecolor": "white",
            "ticks": ""
           }
          },
          "title": {
           "x": 0.05
          },
          "xaxis": {
           "automargin": true,
           "gridcolor": "white",
           "linecolor": "white",
           "ticks": "",
           "title": {
            "standoff": 15
           },
           "zerolinecolor": "white",
           "zerolinewidth": 2
          },
          "yaxis": {
           "automargin": true,
           "gridcolor": "white",
           "linecolor": "white",
           "ticks": "",
           "title": {
            "standoff": 15
           },
           "zerolinecolor": "white",
           "zerolinewidth": 2
          }
         }
        },
        "title": {
         "text": "Número de sesiones por paciente activa",
         "x": 0.5
        },
        "width": 600,
        "xaxis": {
         "title": {
          "text": "Número de sesiones"
         }
        },
        "yaxis": {
         "showgrid": false,
         "tickmode": "array",
         "ticktext": [
          "1",
          "2",
          "3",
          "4",
          "5"
         ],
         "tickvals": [
          1,
          2,
          3,
          4,
          5
         ],
         "title": {
          "text": "Cantidad de pacientes"
         }
        }
       }
      }
     },
     "metadata": {},
     "output_type": "display_data"
    }
   ],
   "source": [
    "# Create the histogram of the 'edad' column\n",
    "fig = go.Figure()\n",
    "\n",
    "# Add histogram trace with custom colors for bars\n",
    "fig.add_trace(go.Histogram(\n",
    "    x=df_cant_sesiones_recibidas['Número de sesión'],\n",
    "    nbinsx=5,\n",
    "    marker=dict(color='#FFC0FE', line=dict(color='rgba(0, 0, 0, 1)', width=0)),\n",
    "    opacity=0.5\n",
    "))\n",
    "\n",
    "\n",
    "# Add annotations (values) on top of each bar\n",
    "fig.update_traces(texttemplate='%{y}', \n",
    "                textposition='inside',\n",
    "                textfont=dict(size=14, color='black'), \n",
    "                opacity=0.5)  # Make values bigger\n",
    "\n",
    "\n",
    "# Update layout for customization\n",
    "fig.update_layout(\n",
    "    title=\"Número de sesiones por paciente activa\",\n",
    "    title_x=0.5,  # Center the title\n",
    "    xaxis_title=\"Número de sesiones\",\n",
    "    yaxis_title=\"Cantidad de pacientes\",\n",
    "    bargap=0.1,  # Adjust the gap between bars\n",
    "    plot_bgcolor='rgba(245, 245, 245, 1)',  # Change plot background color\n",
    "    paper_bgcolor='rgba(240, 240, 240, 1)',  # Change outer background color\n",
    "    width=600,  # Set a narrower width for the chart\n",
    "    height=400,  # Set the height of the chart\n",
    "    margin=dict(t=50, b=50, r=50, l=50),  # Adjust margins to avoid cutting the values\n",
    ")\n",
    "\n",
    "'''\n",
    "# Customize x-axis labels\n",
    "fig.update_xaxes(\n",
    "    tickmode='array',\n",
    "    tickvals=[20, 30, 40, 50, 60],  # Customize the tick values on the x-axis\n",
    "    ticktext=['20', '30', '40', '50', '60']  # Customize how the ticks are displayed\n",
    ")\n",
    "'''\n",
    "# Customize x-axis labels\n",
    "fig.update_yaxes(\n",
    "    tickmode='array',\n",
    "    tickvals=[1, 2, 3, 4, 5],  # Customize the tick values on the x-axis\n",
    "    ticktext=['1', '2', '3', '4', '5']  # Customize how the ticks are displayed\n",
    ")\n",
    "\n",
    "# Remove gridlines on the y-axis\n",
    "fig.update_yaxes(showgrid=False)\n",
    "\n",
    "# Show the histogram\n",
    "fig.show()\n",
    "\n",
    "fig5_path = os.path.join(folder_name, \"Sesiones_por_paciente.png\")\n",
    "pio.write_image(fig, fig5_path)"
   ]
  },
  {
   "cell_type": "code",
   "execution_count": null,
   "metadata": {},
   "outputs": [],
   "source": []
  }
 ],
 "metadata": {
  "kernelspec": {
   "display_name": "cdaplicada",
   "language": "python",
   "name": "python3"
  },
  "language_info": {
   "codemirror_mode": {
    "name": "ipython",
    "version": 3
   },
   "file_extension": ".py",
   "mimetype": "text/x-python",
   "name": "python",
   "nbconvert_exporter": "python",
   "pygments_lexer": "ipython3",
   "version": "3.9.19"
  }
 },
 "nbformat": 4,
 "nbformat_minor": 2
}
